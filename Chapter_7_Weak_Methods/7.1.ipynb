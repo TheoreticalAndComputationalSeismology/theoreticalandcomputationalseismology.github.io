{
 "cells": [
  {
   "cell_type": "markdown",
   "id": "859f219c",
   "metadata": {},
   "source": [
    "## Problem 7.1\n",
    "\n",
    "\n",
    "First let us demonstrate that our integral form satisfies the heat equation. To do this, we need to take the second partial derivative of $\\theta$ with respect to $x$. Since $x$ is in the limit of the integral, we need to use Leibniz rule, which states: \n",
    "\n",
    "$$\n",
    "\\frac{d}{dx} \\left( \\int_{a(x)}^{b(x)} f(x,\\,t) \\, \\mathrm{d}t \\right) = f(x,\\, b(x)) \\cdot \\frac{d}{dx}b(x) - f(x,\\, a(x)) \\cdot \\frac{d}{dx} a(x) + \\int_{a(x)}^{b(x)} \\frac{\\partial}{\\partial x} f(x,\\,t) \\, \\mathrm{d}t\n",
    "$$ \n",
    "\n",
    "In our case $a = x$, $b=1$, $f= \\int_0^y h(z) \\,\\mathrm{d}z$ and $t = y$ "
   ]
  }
 ],
 "metadata": {
  "kernelspec": {
   "display_name": "Python 3 (ipykernel)",
   "language": "python",
   "name": "python3"
  },
  "language_info": {
   "codemirror_mode": {
    "name": "ipython",
    "version": 3
   },
   "file_extension": ".py",
   "mimetype": "text/x-python",
   "name": "python",
   "nbconvert_exporter": "python",
   "pygments_lexer": "ipython3",
   "version": "3.8.10"
  }
 },
 "nbformat": 4,
 "nbformat_minor": 5
}
