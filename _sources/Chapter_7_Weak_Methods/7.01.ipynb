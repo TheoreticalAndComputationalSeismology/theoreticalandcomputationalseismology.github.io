{
 "cells": [
  {
   "cell_type": "markdown",
   "id": "859f219c",
   "metadata": {},
   "source": [
    "## Problem 7.1\n",
    "\n",
    "\n",
    "First let us demonstrate that our integral form satisfies the heat equation. To do this, we need to take the second partial derivative of $\\theta$ with respect to $x$. Since $x$ is in the limit of the integral, we need to use Leibniz rule, which states: \n",
    "\n",
    "$$\n",
    "\\frac{d}{dx} \\left( \\int_{a(x)}^{b(x)} f(x,\\,y) \\, \\mathrm{d}y \\right) = f(x,\\, b(x)) \\cdot \\frac{d}{dx}b(x) - f(x,\\, a(x)) \\cdot \\frac{d}{dx} a(x) + \\int_{a(x)}^{b(x)} \\frac{\\partial}{\\partial x} f(x,\\,y) \\, \\mathrm{d}y\n",
    "$$ \n",
    "\n",
    "In our case we will only consider situations in which the integrand function is not a function of the variable, $x$, with which we are taking the derivative, i.e., $f(x,t) \\rightarrow f(t)$ and $\\frac{d}{dx}f(x,t) = 0 $, so the rule simplifies to \n",
    "\n",
    "$$\n",
    "\\frac{d}{dx} \\left( \\int_{a(x)}^{b(x)} f(y) \\, \\mathrm{d}y \\right) = f(b(x)) \\cdot \\frac{d}{dx}b(x) - f(a(x)) \\cdot \\frac{d}{dx} a(x) \n",
    "$$ "
   ]
  },
  {
   "cell_type": "markdown",
   "id": "e1767c3d",
   "metadata": {},
   "source": [
    "To show that our solution \n",
    "\n",
    "$$ \n",
    " \\theta(x) = \\theta_1 + (1 - x)\\, H_0 + \\int_x^1 \\int_0^y h(z) \\: dz \\, dy\n",
    "$$\n",
    "\n",
    "satisfies the steady-state equation \n",
    "\n",
    "$$\n",
    "\\partial_x^2 \\theta + h = 0 \n",
    "$$\n",
    "\n",
    "let us take the first derivative of the solution with respect to $x$: "
   ]
  },
  {
   "cell_type": "markdown",
   "id": "dad6667e",
   "metadata": {},
   "source": [
    "$$\n",
    " \\frac{d\\theta}{dx} = - H_0 + \\frac{d}{dx}\\left[ \\int_x^1 \\int_0^y h(z) \\: dz \\, dy \\right]\n",
    "$$\n",
    "\n",
    "Using the simplified Leibniz rule above we identify $a(x) = x$, $b(x) = 1$ and $f(y) =  \\int_0^y h(z) \\: dz $ such that the result is \n",
    "\n",
    "$$\n",
    " \\frac{d\\theta}{dx} = - H_0 - \\int_0^x h(z) \\: \\mathrm{d}z\n",
    "$$\n",
    "\n",
    "Employing this a second time, in this case where $b = x$, $a = 0$ and $f(y) = h(z)$ we get\n",
    "\n",
    "$$\n",
    " \\frac{d^2\\theta}{dx^2} =  - h(x)\n",
    "$$\n",
    "\n",
    "Hence, we see this satisfies our steady-state equation."
   ]
  }
 ],
 "metadata": {
  "kernelspec": {
   "display_name": "Python 3 (ipykernel)",
   "language": "python",
   "name": "python3"
  },
  "language_info": {
   "codemirror_mode": {
    "name": "ipython",
    "version": 3
   },
   "file_extension": ".py",
   "mimetype": "text/x-python",
   "name": "python",
   "nbconvert_exporter": "python",
   "pygments_lexer": "ipython3",
   "version": "3.8.10"
  }
 },
 "nbformat": 4,
 "nbformat_minor": 5
}
