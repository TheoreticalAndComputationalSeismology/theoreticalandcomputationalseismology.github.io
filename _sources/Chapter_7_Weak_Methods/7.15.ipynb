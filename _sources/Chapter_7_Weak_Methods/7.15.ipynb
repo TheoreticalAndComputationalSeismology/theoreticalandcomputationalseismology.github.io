{
 "cells": [
  {
   "cell_type": "markdown",
   "id": "e73fbb04",
   "metadata": {},
   "source": [
    "## Problem 7.15\n",
    "\n",
    "\\begin{equation*}\n",
    "\\end{equation*}\n",
    "\n",
    "Starting with the definition for the local capacity matrix in Eqn 7.104\n",
    "\\begin{equation*}\n",
    "m_{ab}^A = \\int_{x_A}^{x_{A+1}} N_a(x) \\, N_b(x) \\: \\mathrm{d}x \\quad, \n",
    "\\end{equation*}\n",
    "\n",
    "for which the shape functions in the reference coordinates, $\\xi$, are defined in 7.56 as \n",
    "\\begin{equation*}\n",
    "N_a = \\frac{1}{2}\\left[ 1 + (-1)^a\\xi \\right] \\quad. \n",
    "\\end{equation*}\n",
    "\n",
    "We may pull back the integration to a reference element using the mapping in 7.55 such that the bounds of integration go from $[x_A,\\, x_{A+1}] \\rightarrow [-1, \\, 1] $: \n",
    "\\begin{align*}\n",
    "m_{ab}^A &= \\int_{x_A}^{x_{A+1}} N_a(x) \\, N_b(x) \\: \\mathrm{d}x \\quad, \\\\\n",
    "         &= \\int_{-1}^{1} N_a(\\xi) \\, N_b(\\xi) \\, \\frac{\\mathrm{d}x}{\\mathrm{d}\\xi} \\mathrm{d}\\xi \\quad,  \\\\\n",
    "         &= \\frac{1}{4} \\int_{-1}^{1} \\left[ 1  + (-1)^a\\xi \\right] \\,\\left[ 1  + (-1)^b\\xi \\right] \\, \\frac{\\Delta x_A}{2} \\mathrm{d}\\xi \\quad, \n",
    "\\end{align*} \n",
    "where we have used $\\frac{\\mathrm{d}x}{\\mathrm{d}\\xi} = \\frac{\\Delta x_A}{2} $ defined in Eqn 7.57. Evaluating this integral yields \n",
    "\n",
    "\\begin{align*}\n",
    "m_{ab}^A &= \\frac{\\Delta x_A}{8} \\left[ \\xi + \\frac{(-1)^a + (-1)^b}{2}\\xi^2 + \\frac{(-1)^{a+b}}{3} \\xi^3 \\right]^{1}_{-1} \\\\ \n",
    "&= \\frac{\\Delta x_A}{4}\\left[ 1 + \\frac{(-1)^{a+b}}{3} \\right]\n",
    "\\end{align*}\n",
    "\n",
    "as required. "
   ]
  }
 ],
 "metadata": {
  "kernelspec": {
   "display_name": "Python 3 (ipykernel)",
   "language": "python",
   "name": "python3"
  },
  "language_info": {
   "codemirror_mode": {
    "name": "ipython",
    "version": 3
   },
   "file_extension": ".py",
   "mimetype": "text/x-python",
   "name": "python",
   "nbconvert_exporter": "python",
   "pygments_lexer": "ipython3",
   "version": "3.8.10"
  }
 },
 "nbformat": 4,
 "nbformat_minor": 5
}
