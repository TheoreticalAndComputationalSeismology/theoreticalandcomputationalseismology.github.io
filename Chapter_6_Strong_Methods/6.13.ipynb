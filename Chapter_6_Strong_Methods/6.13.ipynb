{
 "cells": [
  {
   "cell_type": "markdown",
   "id": "db463ba7",
   "metadata": {},
   "source": [
    "## Problem 6.13\n",
    "\n",
    "\n",
    "#### Derivation for 6.109\n",
    "We start with Equation 6.106\n",
    "$$\n",
    "\\frac{v_j^{n+1} - v_j^{n-1} }{2 \\Delta t} = \\frac{1}{\\rho_j\\,N\\Delta x} \\sum_{\\ell=0}^{N-1} i \\ell \\Delta k \\, \\tilde{\\sigma}^n_\\ell\\, \\exp{(2\\pi i \\ell j / N)} \\quad.\n",
    "$$\n",
    "\n",
    "Let us now now consider the relationship of $v_j^{n+1}$ and  $v_j^{n-1}$ with their counterparts in the wavenumber domain. From 6.104 we have\n",
    "$$\n",
    "v_j^{n+1} = \\frac{1}{N \\Delta x} \\sum_{\\ell=0}^{N-1} \\tilde{v}^{n+1}_\\ell\\, \\exp{(2\\pi i \\ell j / N)}, \\\\\n",
    "v_j^{n-1} = \\frac{1}{N \\Delta x} \\sum_{\\ell=0}^{N-1} \\tilde{v}^{n-1}_\\ell\\, \\exp{(2\\pi i \\ell j / N)},\n",
    "$$\n",
    "such that Equation 6.106 may be written as \n",
    "$$\n",
    "\\frac{\\frac{1}{N \\Delta x} \\sum_{\\ell=0}^{N-1} \\tilde{v}^{n+1}_\\ell\\, \\exp{(2\\pi i \\ell j / N)} - \\frac{1}{N \\Delta x} \\sum_{\\ell=0}^{N-1} \\tilde{v}^{n-1}_\\ell\\, \\exp{(2\\pi i \\ell j / N)}}{2 \\Delta t} = \\frac{1}{\\rho_j\\,N\\Delta x} \\sum_{\\ell=0}^{N-1} i \\ell \\Delta k \\, \\tilde{\\sigma}^n_\\ell\\, \\exp{(2\\pi i \\ell j / N)} \\quad.\n",
    "$$\n",
    "\n",
    "This can be simplified to \n",
    "$$\n",
    "\\frac{1}{2 \\Delta t}\\sum_{\\ell=0}^{N-1} \\left( \\tilde{v}^{n+1}_\\ell\\, - \\tilde{v}^{n-1}_\\ell \\right) \\exp{(2\\pi i \\ell j / N)} = \\frac{1}{\\rho_j} \\sum_{\\ell=0}^{N-1} i \\ell \\Delta k \\, \\tilde{\\sigma}^n_\\ell\\, \\exp{(2\\pi i \\ell j / N)} \\quad, \n",
    "$$ where the $\\frac{1}{N\\Delta x}$ cancels from both sides. Ultimately this is saying that the two discrete Fourier transforms are equal to one another. Due to the fact that the $\\exp{(2\\pi i \\ell j / N)}$ form an orthogonal basis for the different values of $\\ell$, we know that the Fourier coefficient (amplitude) of each term must be equal. That is to say, for each individual value of $\\ell$ the equation \n",
    "$$\n",
    "\\frac{1}{2 \\Delta t} \\left( \\tilde{v}^{n+1}_\\ell\\, - \\tilde{v}^{n-1}_\\ell \\right) \\exp{(2\\pi i \\ell j / N)} = \\frac{1}{\\rho_j} i \\ell \\Delta k \\, \\tilde{\\sigma}^n_\\ell\\, \\exp{(2\\pi i \\ell j / N)} \\quad\n",
    "$$ must hold. This can be simplified to \n",
    "$$\n",
    "\\frac{1}{2 \\Delta t} \\left( \\tilde{v}^{n+1}_\\ell\\, - \\tilde{v}^{n-1}_\\ell \\right)  = \\frac{1}{\\rho} i \\ell \\Delta k \\, \\tilde{\\sigma}^n_\\ell \\quad,\n",
    "$$ which is the equation we seek to obtain. Note here that, as the question suggests, we have assumed a homogeneous medium such that $\\rho_j =\\rho$ everywhere.\n",
    "\n",
    "\n",
    "#### Derivation for 6.110\n",
    "The derivation for the second relationship is essentially identical. \n",
    "We start with Equation 6.107\n",
    "$$\n",
    "\\frac{\\sigma_j^{n+1} - \\sigma_j^{n-1} }{2 \\Delta t} = \\frac{1}{\\mu_j\\,N\\Delta x} \\sum_{\\ell=0}^{N-1} i \\ell \\Delta k \\, \\tilde{v}^n_\\ell\\, \\exp{(2\\pi i \\ell j / N)} \\quad.\n",
    "$$\n",
    "\n",
    "Next we take the wavenumber versions of the stress, \n",
    "$$\n",
    "\\sigma_j^{n+1} = \\frac{1}{N \\Delta x} \\sum_{\\ell=0}^{N-1} \\tilde{\\sigma}^{n+1}_\\ell\\, \\exp{(2\\pi i \\ell j / N)}, \\\\\n",
    "\\sigma_j^{n-1} = \\frac{1}{N \\Delta x} \\sum_{\\ell=0}^{N-1} \\tilde{\\sigma}^{n-1}_\\ell\\, \\exp{(2\\pi i \\ell j / N)},\n",
    "$$\n",
    "such that Equation 6.107 may be written as \n",
    "$$\n",
    "\\frac{\\frac{1}{N \\Delta x} \\sum_{\\ell=0}^{N-1} \\tilde{\\sigma}^{n+1}_\\ell\\, \\exp{(2\\pi i \\ell j / N)} - \\frac{1}{N \\Delta x} \\sum_{\\ell=0}^{N-1} \\tilde{\\sigma}^{n-1}_\\ell\\, \\exp{(2\\pi i \\ell j / N)}}{2 \\Delta t} = \\frac{\\mu_j}{\\,N\\Delta x} \\sum_{\\ell=0}^{N-1} i \\ell \\Delta k \\, \\tilde{v}^n_\\ell\\, \\exp{(2\\pi i \\ell j / N)} \\quad.\n",
    "$$\n",
    "\n",
    "This can be simplified to \n",
    "$$\n",
    "\\frac{1}{2 \\Delta t}\\sum_{\\ell=0}^{N-1} \\left( \\tilde{\\sigma}^{n+1}_\\ell\\, - \\tilde{\\sigma}^{n-1}_\\ell \\right) \\exp{(2\\pi i \\ell j / N)} = \\mu_j \\sum_{\\ell=0}^{N-1} i \\ell \\Delta k \\, \\tilde{v}^n_\\ell\\, \\exp{(2\\pi i \\ell j / N)} \\quad, \n",
    "$$ where, under the same argument as before, we can reduce this to \n",
    "\n",
    "$$\n",
    "\\frac{1}{2 \\Delta t}  \\left( \\tilde{\\sigma}^{n+1}_\\ell\\, - \\tilde{\\sigma}^{n-1}_\\ell \\right)  = \\mu  i \\ell \\Delta k \\, \\tilde{v}^n_\\ell\\quad.\n",
    "$$"
   ]
  }
 ],
 "metadata": {
  "kernelspec": {
   "display_name": "Python 3 (ipykernel)",
   "language": "python",
   "name": "python3"
  },
  "language_info": {
   "codemirror_mode": {
    "name": "ipython",
    "version": 3
   },
   "file_extension": ".py",
   "mimetype": "text/x-python",
   "name": "python",
   "nbconvert_exporter": "python",
   "pygments_lexer": "ipython3",
   "version": "3.8.10"
  }
 },
 "nbformat": 4,
 "nbformat_minor": 5
}
