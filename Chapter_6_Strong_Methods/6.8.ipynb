{
 "cells": [
  {
   "cell_type": "markdown",
   "id": "ee8108c2",
   "metadata": {},
   "source": [
    "## Problem 6.8\n",
    "\n",
    "\n",
    "Starting with our equation (6.75) for the grid phase speed\n",
    "\n",
    "$$\n",
    "    c^{\\text{grid}} = \\frac{2}{k\\,\\Delta t} \\arcsin \\left\\{ c\\,\\Delta t \\:\\left[ \\left( \\frac{\\sin\\left( \\frac{1}{2}k_x\\,\\Delta x \\right)}{\\Delta x}\\right)^2  +   \\left( \\frac{\\sin\\left( \\frac{1}{2}k_y\\,\\Delta y \\right)}{\\Delta y}\\right)^2  \\right]^{1/2} \\right\\}\n",
    "$$\n",
    "\n",
    "This is written slightly differently to the textbook, collecting the powers of 2 on the sine functions and $\\Delta x$/$\\Delta y$ outside of a bracket. Hopefully this makes it clearer for the next step of our solution. \n",
    "\n",
    "The fact that the question tells us to use $k_x^2 + k_y^2 = k^2 $ hints we should aim to extract the $k_x$ and $k_y$ from the sine functions. In fact, when $\\Delta x$ and $\\Delta y$ are small, and the argument of the sine functions tends to 0. The small-angle approximation states that as $\\theta \\rightarrow 0 $ the sine function \n",
    "$$\n",
    "\\sin(\\theta) \\rightarrow \\theta\n",
    "$$\n",
    "Therefore since $\\Delta x \\rightarrow 0$ and $\\Delta y \\rightarrow 0$ we may approximate \n",
    "$$\n",
    "\\sin\\left( \\frac{1}{2}k_x\\,\\Delta x \\right) \\rightarrow  \\frac{1}{2}k_x\\,\\Delta x  \\\\\n",
    "\\sin\\left( \\frac{1}{2}k_y\\,\\Delta y \\right) \\rightarrow  \\frac{1}{2}k_y\\,\\Delta y\n",
    "$$\n",
    "\n",
    "The equation for the grid speed then becomes \n",
    "\n",
    "$$\n",
    "    c^{\\text{grid}} = \\frac{2}{k\\,\\Delta t} \\arcsin \\left\\{ c\\,\\Delta t \\:\\left[ \\left( \\frac{\\frac{1}{2}k_x\\,\\Delta x}{\\Delta x}\\right)^2  +   \\left( \\frac{\\frac{1}{2}k_y\\,\\Delta y}{\\Delta y}\\right)^2  \\right]^{1/2} \\right\\}\n",
    "$$\n",
    "\n",
    "which may be reduced to \n",
    "$$\n",
    "    c^{\\text{grid}} = \\frac{2}{k\\,\\Delta t} \\arcsin \\left\\{ c\\,\\Delta t \\:\\left[ \\frac{1}{4} \\left( k_x^2 + k_y^2 \\right)  \\right]^{1/2} \\right\\}\n",
    "$$\n",
    "\n",
    "\n",
    "Next, we utilise the aforementioned information that $k_x^2 + k_y^2 = k^2$ such that this simplifies to \n",
    "$$\n",
    "    c^{\\text{grid}} = \\frac{2}{k\\,\\Delta t} \\arcsin \\left\\{ \\frac{1}{2} c\\,\\Delta t \\: k \\right\\}\n",
    "$$\n",
    "\n",
    "Finally, dealing we must navigate the limit of the $\\arcsin$ as $\\Delta t \\rightarrow 0$. A Taylor expansion of $\\arcsin(\\Delta t)$ about 0 is $\\Delta t + \\frac{1}{6}(\\Delta t)^3 + \\mathcal{O}(\\Delta t^5)$. Hence to first order we may approximate the arcsin function in this limit as simply its argument, making the speed as  \n",
    "\n",
    "$$\n",
    "    c^{\\text{grid}} = \\frac{1}{2}  c\\,\\Delta t \\: k \\frac{2}{k\\,\\Delta t}  = c \n",
    "$$\n",
    "\n",
    "as required. "
   ]
  }
 ],
 "metadata": {
  "kernelspec": {
   "display_name": "Python 3 (ipykernel)",
   "language": "python",
   "name": "python3"
  },
  "language_info": {
   "codemirror_mode": {
    "name": "ipython",
    "version": 3
   },
   "file_extension": ".py",
   "mimetype": "text/x-python",
   "name": "python",
   "nbconvert_exporter": "python",
   "pygments_lexer": "ipython3",
   "version": "3.8.10"
  }
 },
 "nbformat": 4,
 "nbformat_minor": 5
}
