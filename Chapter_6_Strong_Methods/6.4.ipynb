{
 "cells": [
  {
   "cell_type": "markdown",
   "id": "9f875d5a",
   "metadata": {},
   "source": [
    "### Problem 6.4\n",
    "\n",
    "Let us define our domain: "
   ]
  },
  {
   "cell_type": "code",
   "execution_count": 3,
   "id": "b97939f4",
   "metadata": {},
   "outputs": [],
   "source": [
    "import numpy as np \n",
    "import matplotlib.pyplot as plt \n",
    "\n",
    "L  = 100 \n",
    "dx = 0.1 \n",
    "\n",
    "x = np.arange(0, L+dx, dx)  \n",
    "\n",
    "N = len(x) \n",
    "\n",
    "# Velocity (v) and stress (sigma)\n",
    "v     = np.zeros(N)\n",
    "sigma = np.zeros(N)\n",
    "\n",
    "# Material properties\n",
    "rho = np.zeros(N)\n",
    "mu = np.zeros(N)"
   ]
  },
  {
   "cell_type": "markdown",
   "id": "03e3747e",
   "metadata": {},
   "source": [
    "Define the initial condition as per the problem: "
   ]
  },
  {
   "cell_type": "code",
   "execution_count": 7,
   "id": "a190d12c",
   "metadata": {},
   "outputs": [],
   "source": [
    "def apply_initial_condition(x, v, sigma): \n",
    "    sigma[:] = 0\n",
    "    v = -0.2 * (x-50) * np.exp(-0.1*(x-50)**2)\n",
    "    return v, sigma"
   ]
  }
 ],
 "metadata": {
  "kernelspec": {
   "display_name": "Python 3 (ipykernel)",
   "language": "python",
   "name": "python3"
  },
  "language_info": {
   "codemirror_mode": {
    "name": "ipython",
    "version": 3
   },
   "file_extension": ".py",
   "mimetype": "text/x-python",
   "name": "python",
   "nbconvert_exporter": "python",
   "pygments_lexer": "ipython3",
   "version": "3.8.10"
  }
 },
 "nbformat": 4,
 "nbformat_minor": 5
}
