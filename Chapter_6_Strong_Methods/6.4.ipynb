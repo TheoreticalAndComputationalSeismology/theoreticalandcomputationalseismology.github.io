{
 "cells": [
  {
   "cell_type": "markdown",
   "id": "9f875d5a",
   "metadata": {},
   "source": [
    "### Problem 6.4\n",
    "\n",
    "Let us define our domain: "
   ]
  },
  {
   "cell_type": "code",
   "execution_count": 3,
   "id": "b97939f4",
   "metadata": {},
   "outputs": [],
   "source": [
    "import numpy as np \n",
    "import matplotlib.pyplot as plt \n",
    "\n",
    "# Domain parameters\n",
    "L  = 100 \n",
    "dx = 0.1 \n",
    "\n",
    "# 1D Array holding grid points, x\n",
    "x = np.arange(0, L+dx, dx)  \n",
    "\n",
    "# Number of grid points in x\n",
    "N = len(x) \n",
    "\n",
    "# Velocity (v) and stress (sigma)\n",
    "v     = np.zeros(N)\n",
    "sigma = np.zeros(N)\n",
    "\n",
    "# Material properties - this is an array in so \n",
    "# properties can be defined at each point in the grid\n",
    "rho = np.zeros(N)\n",
    "mu  = np.zeros(N)"
   ]
  },
  {
   "cell_type": "markdown",
   "id": "03e3747e",
   "metadata": {},
   "source": [
    "Define the initial condition as per the problem: "
   ]
  },
  {
   "cell_type": "code",
   "execution_count": 7,
   "id": "a190d12c",
   "metadata": {},
   "outputs": [],
   "source": [
    "def apply_initial_condition(x, v, sigma): \n",
    "    # Equation 6.44\n",
    "    sigma[:] = 0\n",
    "    v = -0.2 * (x-50) * np.exp(-0.1*(x-50)**2)\n",
    "    return v, sigma"
   ]
  },
  {
   "cell_type": "markdown",
   "id": "602556f9",
   "metadata": {},
   "source": [
    "### Solver:\n",
    "\n",
    "The point of these methods is that they are flexible to whatever medium the wavefield is being simulated in. That is, the scheme is independent of whether the domain is homogeneous (part A of the problem) or heterogeneous (part B). Hence, we want to define a function that solves for the next timestep, which is relatively generic. \n",
    "\n",
    "At each grid point, the solver computes the new velocity and stress based on values from adjacent grid points. This can be written efficiently using arrays. Let us store the stress and velocity at each grid point in 1D arrays. The stress in the first grid point (j=1) will be stored in $\\sigma$[0], and the stress in the second grid point in $\\sigma[1]$ and so on.... Note here at Python indexing starts at 0 (like most programming languages, e.g. C++, Rust etc, while some others such as MATLAB start at 1!). If there are N grid points then the final stress value will be stored in $\\sigma[N-1]$. \n",
    "\n",
    "Let us now consider the first point (away from the boundary) that we could apply our solver to, at the second (j=2) grid point. To update the velocity we know this would be: \n",
    "\n",
    "$$\n",
    "v^{n+1}_{j=2} = v^{n-1}_{j=2} + \\frac{\\Delta t}{\\Delta x \\,\\rho_{j=2}} \\left( \\sigma_{j=3}^n  - \\sigma^n_{j=1}\\right)\n",
    "$$\n",
    "\n",
    "For now let us assume that we have access to the term $v^{n-1}_{j=2}$ which will be stored in a separate array, as well as the simulation parameters $\\Delta t$, $\\Delta x$. The important part to note is that we need access to the term $ \\sigma_{j=3}^n  - \\sigma^n_{j=1}$. Similarly, for the following $j$ values we need access to: \n",
    "\n",
    "\n",
    "$$\n",
    "j = 2 : \\quad  \\sigma_{j=3}^n  - \\sigma^n_{j=1}\\\\\n",
    "j = 3 : \\quad  \\sigma_{j=4}^n  - \\sigma^n_{j=2}\\\\\n",
    "j = 4 : \\quad  \\sigma_{j=5}^n  - \\sigma^n_{j=3}\\\\\n",
    "j = 5 : \\quad  \\sigma_{j=6}^n  - \\sigma^n_{j=4}\n",
    "$$\n",
    "\n",
    "We may compute all of these at the same time, if we take two sub-arrays of $\\sigma$ and subtract one from the other. The first array starts at the 3rd grid point (j=3) and represents the $\\sigma^n_{j+1}$ values, while the second array starts at j=1 and represnts the $\\sigma^n_{j+1}$ values. \n",
    "\n",
    "The point here is that for EACH point (excluding the boundary terms) we need to compute the difference of the terms either side of it, which can be done as an array subtraction, rather than in a loop where the computation must be done for each individual grid point in serial. \n",
    "\n",
    "To do this we use slicing, including negative slicing. Read more about this [here](https://www.w3schools.com/python/numpy/numpy_array_slicing.asp). "
   ]
  },
  {
   "cell_type": "code",
   "execution_count": 5,
   "id": "33344716",
   "metadata": {},
   "outputs": [
    {
     "ename": "SyntaxError",
     "evalue": "invalid syntax (4231033743.py, line 23)",
     "output_type": "error",
     "traceback": [
      "\u001b[0;36m  File \u001b[0;32m\"/var/folders/dg/vjf3wzgj14g3jt21n9kn9j8m0000gn/T/ipykernel_84899/4231033743.py\"\u001b[0;36m, line \u001b[0;32m23\u001b[0m\n\u001b[0;31m    NOTE AT THE BOUNDARY WE WILL NEED TO USE A LOWER ORDER SCHEME (FIRST ORDER, FORWARD OR BACKWARD)\u001b[0m\n\u001b[0m         ^\u001b[0m\n\u001b[0;31mSyntaxError\u001b[0m\u001b[0;31m:\u001b[0m invalid syntax\n"
     ]
    }
   ],
   "source": [
    "def step_in_time(s_old, s, v_old, v, dx, dt, mu, rho, use_Dirichlet_BC): \n",
    "    \n",
    "    # Notes on slicing: \n",
    "    # [1:-1] includes all points except boundaries\n",
    "    # [2:  ] is from 3rd to end \n",
    "    # [:-2 ] is from start to 3rd-last (missing last two points)\n",
    "    \n",
    "    # [1:-1] represents lower index = j \n",
    "    # [2:  ] represents lower index = j + 1 \n",
    "    # [:-2 ] represents lower index = j - 1\n",
    "    \n",
    "    # Variable names (s and v): \n",
    "    # s for sigma, v for v (velocity)\n",
    "    # ? below means s or v\n",
    "    # ?_new  represents superscript = n + 1 \n",
    "    # ?      represents superscript = n \n",
    "    # ?_old  represents superscript = n - 1\n",
    "    \n",
    "    # Compute new v and s \n",
    "    v_new[1:-1] = v_old[1:-1] + (dt/(rho[1:-1]*dx)) * (s[2:] - s[:-2]) \n",
    "    s_new[1:-1] = s_old[1:-1] + (dt*mu[1:-1]/dx) * (v[2:] - v[:-2])\n",
    "    \n",
    "    NOTE AT THE BOUNDARY WE WILL NEED TO USE A LOWER ORDER SCHEME (FIRST ORDER, FORWARD OR BACKWARD)\n",
    "    APPLY THE BOUNDARY CONDITIONS CORRRECTLY \n",
    "    # Apply boundary conditions: \n",
    "    if use_Dirichlet_BC: \n",
    "        # Dirichlet: \n",
    "        v_new[0]  = 0 \n",
    "        v_new[-1] = 0 \n",
    "    else: \n",
    "        s_new[0]  = 0\n",
    "        s_new[-1] = 0\n",
    "    return v_new, s_new "
   ]
  },
  {
   "cell_type": "code",
   "execution_count": null,
   "id": "6ea2f061",
   "metadata": {},
   "outputs": [],
   "source": []
  }
 ],
 "metadata": {
  "kernelspec": {
   "display_name": "Python 3 (ipykernel)",
   "language": "python",
   "name": "python3"
  },
  "language_info": {
   "codemirror_mode": {
    "name": "ipython",
    "version": 3
   },
   "file_extension": ".py",
   "mimetype": "text/x-python",
   "name": "python",
   "nbconvert_exporter": "python",
   "pygments_lexer": "ipython3",
   "version": "3.8.10"
  }
 },
 "nbformat": 4,
 "nbformat_minor": 5
}
