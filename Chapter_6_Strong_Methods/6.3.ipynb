{
 "cells": [
  {
   "cell_type": "markdown",
   "id": "4bfa36e8",
   "metadata": {},
   "source": [
    "# Chapter 6 Solutions"
   ]
  },
  {
   "cell_type": "markdown",
   "id": "fc665845",
   "metadata": {},
   "source": [
    "## Problem 6.3\n",
    "\n",
    "The discrete version of the homogeneous wave equation\n",
    "\n",
    "$\\partial_t^2 s = \\beta^2\\, \\partial_x^2 s$\n",
    "is given in Eqn. 6.20 as \n",
    "\n",
    "$s_j^{n+1} = 2 s^n_j - s^{n-1}_j + \\frac{\\beta^2 (\\Delta t)^2}{(\\Delta x)^2} \\left( s^n_{j+1} - 2s^n_j + s^n_{j-1} \\right)$\n",
    "\n",
    "\n",
    "First let us define some parameters: "
   ]
  },
  {
   "cell_type": "code",
   "execution_count": 1,
   "id": "15848cfb",
   "metadata": {},
   "outputs": [],
   "source": [
    "import numpy as np\n",
    "import matplotlib.pyplot as plt \n",
    "from copy import copy"
   ]
  },
  {
   "cell_type": "code",
   "execution_count": 2,
   "id": "5a654dbf",
   "metadata": {},
   "outputs": [],
   "source": [
    "L     = 100     # length of domain \n",
    "dx    = 0.1     # spatial discretiation\n",
    "beta  = 1       # constant wavespeed\n",
    "\n",
    "\n",
    "# Initial condition: \n",
    "def apply_initial_condition(x, s):\n",
    "    \"\"\"\n",
    "    Applies initial condition defined in Eqn 6.21 \n",
    "    x   1D numpy array of spatial positions (array x)\n",
    "    s   1D numpy array of displacement variable (array s)\n",
    "    \"\"\"\n",
    "    s = np.exp(-0.1 * (x-50)**2)\n",
    "    return s "
   ]
  },
  {
   "cell_type": "markdown",
   "id": "4b4502d0",
   "metadata": {},
   "source": [
    "We can create our grid of points, x, using a numpy array. Note that using L as our upper bound in the arange function produces an array of values up to L - dx, hence we use L+dx so that the last element of the array has value L:"
   ]
  },
  {
   "cell_type": "code",
   "execution_count": 7,
   "id": "5ee035bc",
   "metadata": {},
   "outputs": [],
   "source": [
    "# Create array x\n",
    "x = np.arange(0, L+dx, dx)\n",
    "\n",
    "# Length of array x\n",
    "N = len(x)"
   ]
  },
  {
   "cell_type": "markdown",
   "id": "49d72cea",
   "metadata": {},
   "source": [
    "Next we create an empty numpy array to hold the displacement values, with the same length as x: "
   ]
  },
  {
   "cell_type": "code",
   "execution_count": 31,
   "id": "2f2973d2",
   "metadata": {},
   "outputs": [
    {
     "data": {
      "text/plain": [
       "[<matplotlib.lines.Line2D at 0x7f95c00aa040>]"
      ]
     },
     "execution_count": 31,
     "metadata": {},
     "output_type": "execute_result"
    },
    {
     "data": {
      "image/png": "[encoded data removed]",
      "text/plain": [
       "<Figure size 432x288 with 1 Axes>"
      ]
     },
     "metadata": {
      "needs_background": "light"
     },
     "output_type": "display_data"
    }
   ],
   "source": [
    "s      = np.zeros(N)\n",
    "s_prev = np.zeros(N)\n",
    "\n",
    "# Apply initial condition to s: \n",
    "s = apply_initial_condition(x,s)\n",
    "\n",
    "# Plot initial condition\n",
    "fig, ax = plt.subplots()\n",
    "ax.set_title('Initial condition of displacement, s')\n",
    "ax.plot(x,s)"
   ]
  },
  {
   "cell_type": "markdown",
   "id": "8e4b3a9f",
   "metadata": {},
   "source": [
    "### Timestepping\n",
    "\n",
    "We can define a function that computes the displacement at timestep $n+1$ based on equation 6.20: \n",
    "\n",
    "$s_j^{n+1} = 2 s^n_j - s^{n-1}_j + \\frac{\\beta^2 (\\Delta t)^2}{(\\Delta x)^2} \\left( s^n_{j+1} - 2s^n_j + s^n_{j-1} \\right)$\n",
    "\n",
    "Note here that problem 6.3 requires us to investigate the effect of varying $a$, where \n",
    "$\\Delta t = \\alpha \\Delta x / \\beta $ which we can rearrange to\n",
    "$\\alpha = \\beta \\Delta t / \\Delta x   $ such that we can write the timestepping condition equation in terms of $alpha$ as \n",
    "\n",
    "$s_j^{n+1} = 2 s^n_j - s^{n-1}_j + \\alpha^2 \\left( s^n_{j+1} - 2s^n_j + s^n_{j-1} \\right)$"
   ]
  },
  {
   "cell_type": "code",
   "execution_count": 32,
   "id": "ddb35674",
   "metadata": {},
   "outputs": [],
   "source": [
    "def step_in_time(s, s_prev, alpha, use_Dirichlet_bc): \n",
    "    '''\n",
    "    Function computes one timestep of s and applies the boundary \n",
    "    condition. \n",
    "    Inputs: \n",
    "    s       \n",
    "       1D np array of displacement variable at timestep n\n",
    "    s_prev  \n",
    "       1D np array of displacement at timestep n-1\n",
    "    alpha   \n",
    "       float value defined in problem \n",
    "    use_Dirichlet_bc   \n",
    "       boolean value, if True then applies Dirichlet bc\n",
    "                      if False then applies Neumann bc\n",
    "    \n",
    "    Outputs: \n",
    "    s_new\n",
    "       updated displacement at n+1 \n",
    "    s\n",
    "       displacement at time n which will be used as 's_prev in next timestep'          \n",
    "    '''\n",
    "    # Compute the first two terms of the equation\n",
    "    # this applies to all elements in the array\n",
    "    s_new = 2*s - s_prev\n",
    "    \n",
    "    # Now we add the 3rd term, which affects all elements of the\n",
    "    # array except for the first and last elements (boundaries)\n",
    "    s_new[1:-1] += (alpha**2)*( s[2:] - 2*s[1:-1] + s[:-2])\n",
    "    \n",
    "    \n",
    "    # Apply boundary condition\n",
    "    if use_Dirichlet_bc: \n",
    "        s_new[0]  = 0 \n",
    "        s_new[-1] = 0 \n",
    "    else: \n",
    "        # Neumann boundary condition\n",
    "        s_new[0]  = s_new[1]\n",
    "        s_new[-1] = s_new[-2]\n",
    "    return s_new, s "
   ]
  },
  {
   "cell_type": "code",
   "execution_count": 33,
   "id": "df2fce1f",
   "metadata": {},
   "outputs": [
    {
     "data": {
      "text/plain": [
       "[<matplotlib.lines.Line2D at 0x7f9618e53130>]"
      ]
     },
     "execution_count": 33,
     "metadata": {},
     "output_type": "execute_result"
    },
    {
     "data": {
      "image/png": "[encoded data removed]",
      "text/plain": [
       "<Figure size 432x288 with 1 Axes>"
      ]
     },
     "metadata": {
      "needs_background": "light"
     },
     "output_type": "display_data"
    }
   ],
   "source": [
    "# To begin with let us assume that the initial condition holds for any time before 0, such that s_prev\n",
    "# is the same as s \n",
    "s_prev = s \n",
    "\n",
    "alpha = 0.5\n",
    "\n",
    "for i in range(1000):\n",
    "    s, s_prev = step_in_time(s, s_prev, alpha, use_Dirichlet_bc=True)\n",
    "    \n",
    "fig, ax = plt.subplots()\n",
    "\n",
    "ax.plot(x, s)\n"
   ]
  },
  {
   "cell_type": "markdown",
   "id": "531336b5",
   "metadata": {},
   "source": [
    "### Animation: \n",
    "\n",
    "We can animate, instead of plotting each timestep, but it requires a little bit extra code. \n"
   ]
  },
  {
   "cell_type": "code",
   "execution_count": 37,
   "id": "8c80ace4",
   "metadata": {},
   "outputs": [
    {
     "data": {
      "image/png": "[encoded data removed]",
      "text/plain": [
       "<Figure size 432x288 with 1 Axes>"
      ]
     },
     "metadata": {
      "needs_background": "light"
     },
     "output_type": "display_data"
    }
   ],
   "source": [
    "import matplotlib.animation as animation\n",
    "\n",
    "# How animation starts at initial frame\n",
    "def init():  \n",
    "    s= np.zeros(N)\n",
    "    s = apply_initial_condition(x,s)\n",
    "    s_prev = s\n",
    "    l.set_ydata(s)\n",
    "    return l\n",
    "\n",
    "# How animation updates\n",
    "def animate(i):\n",
    "    s, s_prev = step_in_time(s, s_prev, alpha, use_Dirichlet_bc=True)\n",
    "    l.set_ydata(s)\n",
    "    return l\n",
    "\n",
    "fig, ax = plt.subplots()\n",
    "\n",
    "s      = np.zeros(N)\n",
    "l, = ax.plot(x,s)\n",
    "\n",
    "# Define the animation loop\n",
    "ani = animation.FuncAnimation(\n",
    "    fig, animate, init_func=init, frames=1000, blit=False, interval=500, repeat=True)\n",
    "\n"
   ]
  }
 ],
 "metadata": {
  "kernelspec": {
   "display_name": "Python 3 (ipykernel)",
   "language": "python",
   "name": "python3"
  },
  "language_info": {
   "codemirror_mode": {
    "name": "ipython",
    "version": 3
   },
   "file_extension": ".py",
   "mimetype": "text/x-python",
   "name": "python",
   "nbconvert_exporter": "python",
   "pygments_lexer": "ipython3",
   "version": "3.8.10"
  }
 },
 "nbformat": 4,
 "nbformat_minor": 5
}
