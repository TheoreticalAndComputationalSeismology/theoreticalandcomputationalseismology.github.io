{
 "cells": [
  {
   "cell_type": "markdown",
   "id": "5ddc0c54",
   "metadata": {},
   "source": [
    "# Problem 6.7\n",
    "\n",
    "Starting with equation 6.54\n",
    "\n",
    "$$\n",
    "    \\sin^2 (\\omega\\, \\Delta t) = C^2 \\, \\sin^2 (k\\,\\Delta x) \n",
    "$$\n",
    "\n",
    "where\n",
    "$$\n",
    "C^2 = \\frac{\\Delta t^2 \\,\\mu}{\\rho \\, \\Delta x^2} \n",
    "$$\n",
    "which can be seen by setting the determinant of the matrix in equation 6.53 to equal 0. Taking the derivative of this with respect to $k$, and remembering that $\\omega$ is a function of $k$, we use the chain rule to get\n",
    "\n",
    "$$\n",
    "    2\\, \\Delta t\\, \\cos(\\omega\\, \\Delta t)\\, \\sin (\\omega\\, \\Delta t) \\frac{\\partial \\omega}{\\partial k} = 2\\, C^2 \\, \\Delta x \\, \\cos (k\\,\\Delta x) \\, \\sin (k\\,\\Delta x) \n",
    "$$\n",
    "\n",
    "Using the trigonometric identity that \n",
    "$$\n",
    "\\sin(2\\theta) = 2\\sin(\\theta)\\cos(\\theta)\n",
    "$$\n",
    "\n",
    "this may be simplified to \n",
    "\n",
    "$$\n",
    "     \\Delta t\\,  \\sin (2 \\omega\\, \\Delta t) \\frac{\\partial \\omega}{\\partial k} = C^2 \\, \\Delta x \\,  \\sin (2 k\\,\\Delta x) \n",
    "$$\n",
    "\n",
    "followed by division \n",
    "\n",
    "$$\n",
    "  \\frac{\\partial \\omega}{\\partial k} = \\frac{C^2 \\, \\Delta x}{\\Delta t} \\frac{\\sin (2 k\\,\\Delta x) }{ \\sin (2 \\omega\\, \\Delta t) }\n",
    "$$\n",
    "\n",
    "and finally substituting the definition of $C^2$\n",
    "\n",
    "\n",
    "$$\n",
    "  \\frac{\\partial \\omega}{\\partial k} = \\frac{\\Delta t^2 \\,\\mu}{\\rho \\, \\Delta x^2} \\frac{\\Delta x}{\\Delta t} \\frac{\\sin (2 k\\,\\Delta x) }{ \\sin (2 \\omega\\, \\Delta t) } = \\frac{c^2\\, \\Delta t }{\\Delta x} \\frac{\\sin (2 k\\,\\Delta x) }{ \\sin (2 \\omega\\, \\Delta t) }\n",
    "$$"
   ]
  }
 ],
 "metadata": {
  "kernelspec": {
   "display_name": "Python 3 (ipykernel)",
   "language": "python",
   "name": "python3"
  },
  "language_info": {
   "codemirror_mode": {
    "name": "ipython",
    "version": 3
   },
   "file_extension": ".py",
   "mimetype": "text/x-python",
   "name": "python",
   "nbconvert_exporter": "python",
   "pygments_lexer": "ipython3",
   "version": "3.8.10"
  }
 },
 "nbformat": 4,
 "nbformat_minor": 5
}
