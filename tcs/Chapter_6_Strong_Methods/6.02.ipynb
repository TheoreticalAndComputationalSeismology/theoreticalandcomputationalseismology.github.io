{
 "cells": [
  {
   "cell_type": "markdown",
   "id": "ed8d285f",
   "metadata": {},
   "source": [
    "## Problem 6.2\n",
    "\n",
    "\n",
    "Here we will use the Taylor expansions listed in Problem 6.1. As in Problem 6.1 we combine multiples of these Taylor series, such that\n",
    "\n",
    "\\begin{align*}\n",
    " -f(x+2\\Delta x) \\,+\\,  &16\\,f(x+\\Delta x) \\,-\\, 30\\,f(x) \\,+\\, 16\\,f(x-\\Delta x) \\,-\\, f(x-2\\Delta x) = \\\\\n",
    " - &f(x) -2\\Delta x\\,\\frac{df(x)}{dx}\n",
    "    -2\\,(\\Delta x)^2\\,\\frac{d^2f(x)}{dx^2}\n",
    "    -\\frac{8}{6}\\,(\\Delta x)^3\\,\\frac{d^3f(x)}{dx^3}\n",
    "    -\\mathcal{O}(\\Delta x)^4 \\\\\n",
    " + &16 f(x) + 16\\,\\Delta x\\,\\frac{df(x)}{dx}\n",
    "    + 8\\,(\\Delta x)^2\\,\\frac{d^2f(x)}{dx^2}\n",
    "    +\\frac{8}{3}\\,(\\Delta x)^3\\,\\frac{d^3f(x)}{dx^3}\n",
    "    +\\mathcal{O}(\\Delta x)^4 \\\\ \n",
    "    - &30 f(x) \\\\\n",
    " + &16 f(x) -16\\,\\Delta x\\,\\frac{df(x)}{dx}\n",
    "    +8\\,(\\Delta x)^2\\,\\frac{d^2f(x)}{dx^2}\n",
    "    -\\frac{8}{3}\\,(\\Delta x)^3\\,\\frac{d^3f(x)}{dx^3}\n",
    "    +\\mathcal{O}(\\Delta x)^4 \\\\\n",
    "  - &f(x) +2\\Delta x\\,\\frac{df(x)}{dx}\n",
    "    -2\\,(\\Delta x)^2\\,\\frac{d^2f(x)}{dx^2}\n",
    "    +\\frac{8}{6}\\,(\\Delta x)^3\\,\\frac{d^3f(x)}{dx^3}\n",
    "    -\\mathcal{O}(\\Delta x)^4 \\quad, \n",
    "\\end{align*}\n",
    "\n",
    "which simplifies to \n",
    "\\begin{equation*}\n",
    "    -f(x+2\\Delta x) +  16 f(x+\\Delta x) - 30 f(x) + 16 f(x-\\Delta x) - f(x-2\\Delta x) = 12(\\Delta x)^2 \\frac{d^2f(x)}{dx^2} +\\mathcal{O}(\\Delta x)^4 \\quad,\n",
    "\\end{equation*}\n",
    "\n",
    "and therefore dividing by $12\\,(\\Delta x)^2$ yields\n",
    "\\begin{equation*}\n",
    "    \\frac{d^2f(x)}{dx^2} = \\frac{1}{(\\Delta x)^2 } \\left[ -\\frac{1}{12}\\,f(x+2\\Delta x) +  \\frac{4}{3}\\,f(x+\\Delta x) - \\frac{5}{2}\\,f(x) + \\frac{4}{3}\\,f(x-\\Delta x) - \\frac{1}{12}\\,f(x-2\\Delta x) \\right]  + \\frac{\\mathcal{O}(\\Delta x)^4}{(\\Delta x)^2} \\quad.\n",
    "\\end{equation*}\n",
    "\n",
    "It is important to note here that due to the division by $(\\Delta x)^2$, the error is of order $\\frac{\\mathcal{O}(\\Delta x)^4}{(\\Delta x)^2} = \\mathcal{O}(\\Delta x)^2$."
   ]
  }
 ],
 "metadata": {
  "kernelspec": {
   "display_name": "Python 3 (ipykernel)",
   "language": "python",
   "name": "python3"
  },
  "language_info": {
   "codemirror_mode": {
    "name": "ipython",
    "version": 3
   },
   "file_extension": ".py",
   "mimetype": "text/x-python",
   "name": "python",
   "nbconvert_exporter": "python",
   "pygments_lexer": "ipython3",
   "version": "3.8.10"
  }
 },
 "nbformat": 4,
 "nbformat_minor": 5
}
