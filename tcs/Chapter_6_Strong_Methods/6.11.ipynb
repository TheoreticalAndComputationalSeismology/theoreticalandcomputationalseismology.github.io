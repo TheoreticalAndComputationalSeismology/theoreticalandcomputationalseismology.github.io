{
 "cells": [
  {
   "cell_type": "markdown",
   "id": "3bcd9e51",
   "metadata": {},
   "source": [
    "# Problem 6.11\n",
    "\n",
    "\n",
    "Let us take Eqn. 6.92 \n",
    "\n",
    "$$\n",
    "    - \\frac{\\gamma}{2} \\theta^n_{j-1} + \\left[ 1 + \\gamma \\right]\\, \\theta^n_j - \\frac{\\gamma}{2} \\theta^{n}_{j+1} = \\frac{\\gamma}{2} \\theta^{n-1}_{j-1} + \\left[ 1 - \\gamma \\right] \\theta^{n-1}_j + \\frac{\\gamma}{2} \\theta^{n-1}_{j+1}  \n",
    "$$\n",
    "\n",
    "where $\\gamma = \\frac{\\alpha \\Delta t}{(\\Delta x)^2}$. Next as instructed we will sub in our plane wave approximations from 6.83 for the current timestep \n",
    "$$\n",
    "\\begin{align}\n",
    "\\theta^{\\,n}_{j-1} &= A^n \\, e^{i k (j-1) \\Delta x}\\\\\n",
    "\\theta^{\\,n}_j &= A^n \\, e^{i k j \\Delta x}\\\\\n",
    "\\theta^{\\,n}_{j+1} &= A^n \\, e^{i k (j+1) \\Delta x}\\\\\n",
    "\\end{align}\n",
    "$$\n",
    "and previous timestep\n",
    "$$\n",
    "\\begin{align}\n",
    "\\theta^{\\,n-1}_{j-1} &= A^{n-1} \\, e^{i k (j-1) \\Delta x}\\\\\n",
    "\\theta^{\\,n-1}_j &= A^{n-1} \\, e^{i k j \\Delta x}\\\\\n",
    "\\theta^{\\,n-1}_{j+1} &= A^{n-1} \\, e^{i k (j+1) \\Delta x}\\\\\n",
    "\\end{align}\n",
    "$$\n",
    "\n",
    "which yields \n",
    "\n",
    "$$\n",
    "    - \\frac{\\gamma}{2} A^n \\, e^{i k (j-1) \\Delta x} + \\left[ 1 + \\gamma \\right]\\, A^n \\, e^{i k j \\Delta x} - \\frac{\\gamma}{2} A^n \\, e^{i k (j+1) \\Delta x} \\\\ \n",
    "    = \\frac{\\gamma}{2} A^{n-1} \\, e^{i k (j-1) \\Delta x} + \\left[ 1 - \\gamma \\right] A^{n-1} \\, e^{i k j \\Delta x} + \\frac{\\gamma}{2} A^{n-1} \\, e^{i k (j+1) \\Delta x} \n",
    "$$\n",
    "Let us now divide by $A^{n-1} e^{i k j \\Delta x}$, \n",
    "$$\n",
    "   A \\left\\{ - \\frac{\\gamma}{2}  \\, e^{-i k \\Delta x} + \\left[ 1 + \\gamma \\right]\\, - \\frac{\\gamma}{2}  \\, e^{i k \\Delta x}  \\right\\} \\\\ \n",
    "    = \\frac{\\gamma}{2}  \\, e^{- i k \\Delta x} + \\left[ 1 - \\gamma \\right]  \\, + \\frac{\\gamma}{2} \\, e^{i k \\Delta x} \n",
    "$$ \n",
    "and collect the terms \n",
    "\n",
    "$$\n",
    "   A \\left\\{ 1 - \\gamma \\left( -1  +  \\frac{e^{-i k \\Delta x} + e^{i k \\Delta x}}{2}   \\right)  \\right\\} \n",
    "    =  1 + \\gamma \\left( - 1   +   \\frac{ e^{- i k \\Delta x}  + e^{i k \\Delta x} }{2}  \\right) \n",
    "$$\n",
    "\n",
    "where we can use the identity that \n",
    "\n",
    "$$ \n",
    "\\frac{ e^{- i \\theta}  + e^{i \\theta} }{2} = \\cos \\theta\n",
    "$$ \n",
    "\n",
    "to reduce this to \n",
    "$$\n",
    "   A \\left\\{ 1 - \\gamma \\left( -1  +  \\cos \\left( k \\Delta x \\right)   \\right)  \\right\\} \n",
    "    =  1 + \\gamma \\left( - 1   +   \\cos \\left( k \\Delta x \\right)  \\right) \n",
    "$$\n",
    "\n",
    "Finally we may use the identity that \n",
    "$$ \n",
    "2\\sin^2 \\theta = 1 - \\cos 2\\theta \n",
    "$$\n",
    "where in our case,  $\\theta = \\frac{1}{2} k\\Delta x $ such that\n",
    "\n",
    "$$ \n",
    " - 1 + \\cos ( k \\Delta x ) = -2\\sin^2 \\left( \\frac{1}{2} k\\Delta x \\right)\n",
    "$$ and so we may write \n",
    "\n",
    "$$\n",
    "   A \\left\\{ 1 + 2\\gamma \\sin^2 \\left( \\frac{1}{2} k\\Delta x \\right)  \\right\\} \n",
    "    =  1 -  2 \\: \\gamma \\sin^2 \\left( \\frac{1}{2} k\\Delta x \\right)\n",
    "$$\n",
    "\n",
    "and so \n",
    "\n",
    "$$\n",
    "   A \n",
    "    = \\frac{ 1 -  2 \\: \\gamma \\sin^2 \\left( \\frac{1}{2} k\\Delta x \\right)} { 1 + 2\\gamma \\sin^2 \\left( \\frac{1}{2} k\\Delta x \\right)   }\n",
    "$$\n",
    "\n",
    "as required."
   ]
  },
  {
   "cell_type": "markdown",
   "id": "96e3a891",
   "metadata": {},
   "source": [
    "## Unconditional stability\n",
    "\n",
    "Why is this method unconditionally stable for any value of $k$? Let us consider our expression \n",
    "\n",
    "$$\n",
    "   A \n",
    "    = \\frac{ 1 -  2 \\: \\gamma \\sin^2 \\left( \\frac{1}{2} k\\Delta x \\right)} { 1 + 2\\gamma \\sin^2 \\left( \\frac{1}{2} k\\Delta x \\right)   }. \n",
    "$$\n",
    "\n",
    "Regardless of $k$ the $\\sin^2$ terms are bounded between $[0, 1]$ such that the maximum value of A is controlled by \n",
    "\n",
    "$$\n",
    "   A \n",
    "    = \\frac{ 1 -  2 \\: \\gamma q} { 1 + 2\\gamma    q}. \n",
    "$$\n",
    "\n",
    "where $q$ ranges from $[0, 1]$. $\\gamma    q$ is therefore always positive and bounded between $0 < gq \\leq \\gamma$. By plotting this we can clearly see that $A$ will never be larger than 1. At $gq=0$, $A=1$ and for $gq>0$ then $A < 1$/ \n",
    "\n"
   ]
  },
  {
   "cell_type": "code",
   "execution_count": 1,
   "id": "836769b8",
   "metadata": {},
   "outputs": [
    {
     "data": {
      "text/plain": [
       "[<matplotlib.lines.Line2D at 0x117feb250>]"
      ]
     },
     "execution_count": 1,
     "metadata": {},
     "output_type": "execute_result"
    },
    {
     "data": {
      "image/png": "[encoded data removed]",
      "text/plain": [
       "<Figure size 640x480 with 1 Axes>"
      ]
     },
     "metadata": {},
     "output_type": "display_data"
    }
   ],
   "source": [
    "import numpy as np \n",
    "import matplotlib.pyplot as plt \n",
    "\n",
    "\n",
    "gq = np.linspace(0, 10, 100)\n",
    "\n",
    "A = (1 - 2*gq)/(1 + 2*gq)\n",
    "\n",
    "\n",
    "fig,  ax = plt.subplots()\n",
    "\n",
    "ax.plot(gq, A)"
   ]
  }
 ],
 "metadata": {
  "kernelspec": {
   "display_name": "Python 3",
   "language": "python",
   "name": "python3"
  },
  "language_info": {
   "codemirror_mode": {
    "name": "ipython",
    "version": 3
   },
   "file_extension": ".py",
   "mimetype": "text/x-python",
   "name": "python",
   "nbconvert_exporter": "python",
   "pygments_lexer": "ipython3",
   "version": "3.13.3"
  }
 },
 "nbformat": 4,
 "nbformat_minor": 5
}
