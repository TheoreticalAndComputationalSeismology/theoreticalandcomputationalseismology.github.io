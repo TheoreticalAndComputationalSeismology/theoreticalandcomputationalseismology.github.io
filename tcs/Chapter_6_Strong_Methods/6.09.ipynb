{
 "cells": [
  {
   "cell_type": "markdown",
   "id": "67c1b95b",
   "metadata": {},
   "source": [
    "# Problem 6.9\n",
    "\n",
    "Starting with Equation 6.74: \n",
    "\n",
    "$$\n",
    "\\sin\\left(\\frac{1}{2}\\,\\omega\\,\\Delta t\\right) =  c\\,\\Delta t \\:\\left[ \\left( \\frac{\\sin\\left( \\frac{1}{2}k_x\\,\\Delta x \\right)}{\\Delta x}\\right)^2  +   \\left( \\frac{\\sin\\left( \\frac{1}{2}k_y\\,\\Delta y \\right)}{\\Delta y}\\right)^2  \\right]^{1/2}\n",
    "$$\n",
    "\n",
    "Taking the derivative of this with respect to the wavevector in the x direction, $k_x$, remembering that $\\omega \\sim \\omega(k_x, \\, k_y)$ we get \n",
    "\n",
    "$$\n",
    "\\frac{1}{2} \\, \\Delta t \\cos\\left(\\frac{1}{2}\\,\\omega\\,\\Delta t\\right) \\frac{\\partial \\omega}{\\partial k_x} =  \\frac{1}{2}  \\, c\\,\\Delta t \\:\\left[ \\left( \\frac{\\sin\\left( \\frac{1}{2}k_x\\,\\Delta x \\right)}{\\Delta x}\\right)^2  +   \\left( \\frac{\\sin\\left( \\frac{1}{2}k_y\\,\\Delta y \\right)}{\\Delta y}\\right)^2  \\right]^{\\:- 1/2} \\, \\frac{\\cos \\left( \\frac{1}{2}k_x\\,\\Delta x  \\right) \\sin \\left( \\frac{1}{2}k_x\\,\\Delta x  \\right)}{\\Delta x}\n",
    "$$\n",
    "\n",
    "Noting here that we can rearrange Eqn. 6.74 to \n",
    "$$\n",
    "\\left[ \\left( \\frac{\\sin\\left( \\frac{1}{2}k_x\\,\\Delta x \\right)}{\\Delta x}\\right)^2  +   \\left( \\frac{\\sin\\left( \\frac{1}{2}k_y\\,\\Delta y \\right)}{\\Delta y}\\right)^2  \\right]^{\\:-1/2} = \\frac{ c\\,\\Delta t } {\\sin\\left(\\frac{1}{2}\\,\\omega\\,\\Delta t\\right)}\n",
    "$$\n",
    "and substitute it in to yield \n",
    "\n",
    "$$\n",
    "\\frac{1}{2} \\, \\Delta t \\cos\\left(\\frac{1}{2}\\,\\omega\\,\\Delta t\\right) \\frac{\\partial \\omega}{\\partial k_x} =  \\frac{1}{2}  \\: \\frac{ c^2 \\,(\\Delta t)^2 } {\\sin\\left(\\frac{1}{2}\\,\\omega\\,\\Delta t\\right)} \\, \\frac{\\cos \\left( \\frac{1}{2}k_x\\,\\Delta x  \\right) \\sin \\left( \\frac{1}{2}k_x\\,\\Delta x  \\right)}{\\Delta x}\n",
    "$$\n",
    "\n",
    "Rearranging this slightly to get\n",
    "\n",
    "\n",
    "$$\n",
    " \\frac{\\partial \\omega}{\\partial k_x} =  \\frac{ c^2 \\Delta t }{\\Delta x} \\, \\frac{\\cos \\left( \\frac{1}{2}k_x\\,\\Delta x  \\right) \\sin \\left( \\frac{1}{2}k_x\\,\\Delta x  \\right)}{  \\cos\\left(\\frac{1}{2}\\,\\omega\\,\\Delta t\\right)  \\sin\\left(\\frac{1}{2}\\,\\omega\\,\\Delta t\\right) }\n",
    "$$\n",
    "\n",
    "Finally the double angle formula $\\sin(2\\theta) = 2\\sin(\\theta)\\cos(\\theta)$ allows both the numerator and denomenator to be converted: \n",
    "\n",
    "$$\n",
    "\\cos \\left( \\frac{1}{2}k_x\\,\\Delta x  \\right) \\sin \\left( \\frac{1}{2}k_x\\,\\Delta x  \\right) = \\frac{1}{2} \\sin \\left(k_x\\,\\Delta x  \\right) \\\\ \n",
    "\\cos\\left(\\frac{1}{2}\\,\\omega\\,\\Delta t\\right)  \\sin\\left(\\frac{1}{2}\\,\\omega\\,\\Delta t \\right) = \\frac{1}{2}  \\sin\\left(\\omega\\,\\Delta t \\right)\n",
    "$$\n",
    "such that derivative can be written as \n",
    "\n",
    "$$\n",
    " \\frac{\\partial \\omega}{\\partial k_x} =  \\frac{ c^2\\Delta t }{\\Delta x} \\, \\frac{ \\sin \\left(k_x\\,\\Delta x  \\right)}{  \\sin\\left(\\omega\\,\\Delta t \\right) }\n",
    "$$\n",
    "\n",
    "which is the desired solution for Eqn 6.76. There is is no difference in deriving 6.77 other than to take the derivative with respect to $k_y$ and so this is left to the reader. "
   ]
  }
 ],
 "metadata": {
  "kernelspec": {
   "display_name": "Python 3 (ipykernel)",
   "language": "python",
   "name": "python3"
  },
  "language_info": {
   "codemirror_mode": {
    "name": "ipython",
    "version": 3
   },
   "file_extension": ".py",
   "mimetype": "text/x-python",
   "name": "python",
   "nbconvert_exporter": "python",
   "pygments_lexer": "ipython3",
   "version": "3.8.10"
  }
 },
 "nbformat": 4,
 "nbformat_minor": 5
}
