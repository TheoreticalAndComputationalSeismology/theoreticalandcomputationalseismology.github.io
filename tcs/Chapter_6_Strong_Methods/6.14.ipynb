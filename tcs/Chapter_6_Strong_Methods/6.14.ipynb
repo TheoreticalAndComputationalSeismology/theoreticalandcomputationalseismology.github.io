{
 "cells": [
  {
   "cell_type": "markdown",
   "id": "19089700",
   "metadata": {},
   "source": [
    "# Problem 6.14\n",
    "\n",
    "We start with relationship for the standing wave in 6.114, \n",
    "\n",
    "$$\n",
    "\\sin(\\omega \\Delta t) = \\beta \\ell \\Delta k \\Delta t  = \\beta\\, k_\\ell\\, \\Delta t \\quad. \n",
    "$$\n",
    "\n",
    "Next, take the derivative with respect to the wavenumber, $k$, yielding \n",
    "\n",
    "$$\n",
    "\\frac{\\partial\\omega}{\\partial k} \\Delta t \\, \\cos(\\omega \\Delta t) = \\beta \\ell \\Delta k \\Delta t \\quad, \n",
    "$$\n",
    "\n",
    "which reduces to \n",
    "\n",
    "$$\n",
    "\\frac{\\partial\\omega}{\\partial k} = \\frac{ \\beta\\, k_\\ell}{\\cos(\\omega \\Delta t)} \\quad.\n",
    "$$\n"
   ]
  }
 ],
 "metadata": {
  "kernelspec": {
   "display_name": "Python 3 (ipykernel)",
   "language": "python",
   "name": "python3"
  },
  "language_info": {
   "codemirror_mode": {
    "name": "ipython",
    "version": 3
   },
   "file_extension": ".py",
   "mimetype": "text/x-python",
   "name": "python",
   "nbconvert_exporter": "python",
   "pygments_lexer": "ipython3",
   "version": "3.8.10"
  }
 },
 "nbformat": 4,
 "nbformat_minor": 5
}
