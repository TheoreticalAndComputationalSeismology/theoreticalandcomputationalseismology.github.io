{
 "cells": [
  {
   "cell_type": "markdown",
   "id": "87f1f804",
   "metadata": {},
   "source": [
    "## Problem 7.09\n",
    "\n",
    "The local linear shape functions are defined in 7.56 as \n",
    "$$\n",
    "N_a (\\xi) = \\frac{1}{2} \\left[ 1 + (-1)^a \\, \\xi  \\right]\n",
    "$$\n",
    "\n",
    "and the local diffusivity matrix is defined in 7.63 as \n",
    "$$\n",
    "k_{ab}^A = \\int_{x_A}^{x_{A+1}} \\left( \\partial_x N_a \\right) \\left( \\partial_x N_b \\right) \\: \\mathrm{d}x \\quad. \n",
    "$$\n",
    "\n",
    "To get the derivatives of the shape functions, we need to use the chain rule \n",
    "$$\n",
    "\\partial_x N_a = \\frac{\\mathrm{d}N_a}{\\mathrm{d} \\xi}\\frac{\\mathrm{d} \\xi}{\\mathrm{d} x}. \n",
    "$$ \n",
    "yielding  \n",
    "$$\n",
    "k_{ab}^A = \\int_{x_A}^{x_{A+1}} \\frac{\\mathrm{d}N_a}{\\mathrm{d} \\xi} \\frac{\\mathrm{d}N_b}{\\mathrm{d} \\xi} \\left[ \\frac{\\mathrm{d} \\xi}{\\mathrm{d} x} \\right]^2 \\: \\mathrm{d}x \\quad. \n",
    "$$\n",
    "\n",
    "Next we can change the variable of integration as \n",
    "$$\n",
    "\\mathrm{d}x = \\frac{\\mathrm{d}x }{\\mathrm{d}\\xi}\\: \\mathrm{d}\\xi\n",
    "$$\n",
    "and the limits \n",
    "$$\n",
    "\\begin{align}\n",
    "x = x_A &\\rightarrow \\xi = -1 \\\\\n",
    "x = x_{A+1} &\\rightarrow \\xi = +1 \n",
    "\\end{align}\n",
    "$$\n",
    "to produce \n",
    "$$\n",
    "k_{ab}^A = \\int_{-1}^{1} \\frac{\\mathrm{d}N_a}{\\mathrm{d} \\xi} \\frac{\\mathrm{d}N_b}{\\mathrm{d} \\xi} \\left[ \\frac{\\mathrm{d} \\xi}{\\mathrm{d} x} \\right]^2 \\: \\frac{\\mathrm{d}x }{\\mathrm{d}\\xi}\\: \\mathrm{d}\\xi = \\int_{-1}^{1} \\frac{\\mathrm{d}N_a}{\\mathrm{d} \\xi} \\frac{\\mathrm{d}N_b}{\\mathrm{d} \\xi} \\frac{\\mathrm{d} \\xi}{\\mathrm{d} x}  \\: \\: \\mathrm{d}\\xi \n",
    "$$\n",
    "as in 7.64. Now let us evaluate this integral using\n",
    "\n",
    "\n",
    "$$\n",
    "\\frac{\\mathrm{d}N_a}{\\mathrm{d} \\xi} = \\frac{1}{2} (-1)^a \\quad,\n",
    "$$\n",
    "$$\n",
    "\\frac{\\mathrm{d}N_b}{\\mathrm{d} \\xi} = \\frac{1}{2} (-1)^b \\quad,\n",
    "$$\n",
    "$$\n",
    "\\frac{\\mathrm{d}\\xi}{\\mathrm{d} x} = \\frac{2}{\\Delta x_A} \\quad,\n",
    "$$\n",
    "which gives \n",
    "$$\n",
    "\\begin{align}\n",
    "k_{ab}^A &= \\frac{1}{4} \\int_{-1}^{1} (-1)^a (-1)^b  \\frac{2}{\\Delta x_A}   \\: \\: \\mathrm{d}\\xi \\\\\n",
    " &= \\frac{1}{4} \\int_{-1}^{1} (-1)^{a+b}   \\frac{2}{\\Delta x_A}   \\: \\: \\mathrm{d}\\xi  \\: =  \\frac{(-1)^{a+b}}{\\Delta x_A}\n",
    "\\end{align}\n",
    "$$"
   ]
  }
 ],
 "metadata": {
  "kernelspec": {
   "display_name": "Python 3 (ipykernel)",
   "language": "python",
   "name": "python3"
  },
  "language_info": {
   "codemirror_mode": {
    "name": "ipython",
    "version": 3
   },
   "file_extension": ".py",
   "mimetype": "text/x-python",
   "name": "python",
   "nbconvert_exporter": "python",
   "pygments_lexer": "ipython3",
   "version": "3.8.10"
  }
 },
 "nbformat": 4,
 "nbformat_minor": 5
}
