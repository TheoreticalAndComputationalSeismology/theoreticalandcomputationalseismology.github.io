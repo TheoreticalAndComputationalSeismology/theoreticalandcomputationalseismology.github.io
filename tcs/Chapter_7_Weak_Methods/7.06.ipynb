{
 "cells": [
  {
   "cell_type": "markdown",
   "id": "31f0c5bc",
   "metadata": {},
   "source": [
    "## Problem 7.6\n",
    "\n",
    "The local element solution has the spatial mapping defined as \n",
    "\n",
    "$$\n",
    "x(\\xi) = \\sum_{a=1}^2 x_{A+a-1} N_a ( \\xi) \n",
    "$$\n",
    "\n",
    "for which the linear shape functions are \n",
    "$$\n",
    "N_a(\\xi) = \\frac{1}{2} \\left[ 1 + (-1)^a \\xi  \\right]\n",
    "$$\n",
    "\n",
    "\n",
    "Let us expand the mapping with these shape functions by writing the summation explicitly\n",
    "\n",
    "$$\n",
    "x(\\xi) =  x_{A} N_1 ( \\xi)  + x_{A+1} N_2 ( \\xi)\n",
    "$$\n",
    "and now substituting in the shape functions: \n",
    "$$\n",
    "N_1(\\xi) = \\frac{1}{2} \\left[ 1 - \\xi  \\right] \\\\ \n",
    "N_2(\\xi) = \\frac{1}{2} \\left[ 1 + \\xi  \\right]\n",
    "$$\n",
    "the spatial mapping is then \n",
    "$$\n",
    "x(\\xi) =  \\frac{x_{A}}{2} \\left[ 1 - \\xi  \\right]  +  \\frac{x_{A+1}}{2} \\left[ 1 + \\xi  \\right]\n",
    "$$\n",
    "\n",
    "\n",
    "### Verifying the values at $\\xi = \\pm 1$: \n",
    "\n",
    "At $\\xi  = -1 $ the mapping becomes\n",
    "$$\n",
    "x(\\xi) =  \\frac{2 x_{A}}{2}     = x_{A} \n",
    "$$ \n",
    "as required. Similarly at $\\xi  = 1 $ the mapping becomes \n",
    "\n",
    "$$\n",
    "x(\\xi) =    \\frac{2 x_{A+1}}{2} = x_{A+1}\n",
    "$$\n"
   ]
  }
 ],
 "metadata": {
  "kernelspec": {
   "display_name": "Python 3 (ipykernel)",
   "language": "python",
   "name": "python3"
  },
  "language_info": {
   "codemirror_mode": {
    "name": "ipython",
    "version": 3
   },
   "file_extension": ".py",
   "mimetype": "text/x-python",
   "name": "python",
   "nbconvert_exporter": "python",
   "pygments_lexer": "ipython3",
   "version": "3.8.10"
  }
 },
 "nbformat": 4,
 "nbformat_minor": 5
}
