{
 "cells": [
  {
   "cell_type": "markdown",
   "id": "45b14930",
   "metadata": {},
   "source": [
    "## Problem 7.7\n",
    "\n",
    "We seek the jacobian ($\\frac{\\partial x}{\\partial \\xi}$) of the the spatial mapping \n",
    "\\begin{equation*}\n",
    "    x(\\xi) = \\sum_{a=1}^2 x_{A+a-1} N_a ( \\xi) \n",
    "\\end{equation*}\n",
    "\n",
    "with linear shape functions \n",
    "\\begin{equation*}\n",
    "    N_a(\\xi) = \\frac{1}{2} \\left[ 1 + (-1)^a \\xi  \\right]. \n",
    "\\end{equation*}\n",
    "\n",
    "First, let us take the derivative of the mapping with respect to $\\xi$. \n",
    "\n",
    "\\begin{equation*}\n",
    "    \\frac{d x}{d\\xi}  = \\sum_{a=1}^2 x_{A+a-1}  \\frac{d}{d\\xi} N_a ( \\xi) \\quad. \n",
    "\\end{equation*}\n",
    "We therefore need the derivatives of the shape functions: \n",
    "\n",
    "\\begin{equation*}\n",
    "    \\frac{d}{d\\xi} N_a(\\xi) = \\frac{1}{2}  (-1)^a \n",
    "\\end{equation*}\n",
    " such that the derivatives of the two shape functions are \n",
    "\n",
    "\\begin{align*}\n",
    "    \\frac{d N_1}{d\\xi}  = -\\frac{1}{2} \\\\ \n",
    "    \\frac{d N_2}{d\\xi}  = +\\frac{1}{2} \n",
    "\\end{align*}\n",
    "\n",
    "We may then write the summation in the jacobian explicitly as \n",
    "\\begin{align*}\n",
    "    \\frac{d x}{d\\xi}  &=  x_{A}  \\frac{d  N_1}{d\\xi}  +  x_{A+1}  \\frac{d N_2}{d\\xi}  \\\\ \n",
    "      &=  \\frac{1}{2} \\left[   x_{A+1} - x_{A}    \\right] \\\\\n",
    "      &=  \\frac{1}{2} \\Delta  x_{A} \n",
    "\\end{align*}\n",
    "as required. "
   ]
  }
 ],
 "metadata": {
  "kernelspec": {
   "display_name": "Python 3 (ipykernel)",
   "language": "python",
   "name": "python3"
  },
  "language_info": {
   "codemirror_mode": {
    "name": "ipython",
    "version": 3
   },
   "file_extension": ".py",
   "mimetype": "text/x-python",
   "name": "python",
   "nbconvert_exporter": "python",
   "pygments_lexer": "ipython3",
   "version": "3.8.10"
  }
 },
 "nbformat": 4,
 "nbformat_minor": 5
}
