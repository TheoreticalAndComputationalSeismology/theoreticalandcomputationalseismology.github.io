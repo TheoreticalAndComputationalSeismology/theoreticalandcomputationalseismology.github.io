{
 "cells": [
  {
   "cell_type": "markdown",
   "id": "e790d4d5",
   "metadata": {},
   "source": [
    "## Problem 7.16\n",
    "\n",
    "This problem reproduces the global-element version of Problem 7.14 for a cooling half-space, using a local element method. We introduced the local-element method for the diffusivity matrix in Problem 7.10. Similarly, the timestepping component was introduced in Problem 7.14. The details are therefore not re-capitulated here. \n",
    "\n",
    "The new component introduced in this problem is the assembly of the capacity matrix from local elements. \n",
    "\n",
    "In the hidden cell below, we will set up the domain and initial conditions in an identical manner to Problem 7.14."
   ]
  },
  {
   "cell_type": "code",
   "execution_count": 4,
   "id": "bdaad18d",
   "metadata": {
    "tags": [
     "hide-input"
    ]
   },
   "outputs": [],
   "source": [
    "import numpy as np \n",
    "import matplotlib.pyplot as plt \n",
    "import scipy.special as ss \n",
    "\n",
    "## Domain setup: \n",
    "L       = 20        # Domain size\n",
    "alpha   = 1         # Diffusivity\n",
    "\n",
    "nelem   = 1000      # Elements\n",
    "npts    = nelem + 1 # Control points\n",
    "\n",
    "eta     = 0.5       # Time scheme param.\n",
    "dt      = 0.05      # Time step\n",
    "\n",
    "# Define grid points of domain\n",
    "# and grid spacing \n",
    "# Note LHS is defined as L where\n",
    "# Neumann condition exists\n",
    "# and RHS (z=0) for Dirichlet BC\n",
    "z = np.linspace(L, 0, npts)\n",
    "dz =  z[:-1] - z[1:]\n",
    "\n",
    "# Initial condition:\n",
    "analytical = np.zeros(npts)\n",
    "temp       = np.zeros(npts)\n",
    "\n",
    "# assume initial dtemp/dt = 0\n",
    "dtemp_dt = np.zeros(npts)\n",
    "\n",
    "# zero only at surface\n",
    "analytical[:-1] = 1\n",
    "temp[:-1]       = 1"
   ]
  },
  {
   "cell_type": "markdown",
   "id": "c87d70f8",
   "metadata": {},
   "source": [
    "Next, the global capacity and diffusivity matrices are assembled from local elements: "
   ]
  },
  {
   "cell_type": "code",
   "execution_count": 2,
   "id": "5ac90b5e",
   "metadata": {
    "scrolled": false
   },
   "outputs": [],
   "source": [
    "# Generate Global K & M matrices\n",
    "M = np.zeros((nelem, nelem))\n",
    "K = np.zeros((nelem, nelem))\n",
    "\n",
    "# loop over elements \n",
    "for ielem in range(nelem):\n",
    "\n",
    "    # Compute local diffusivity matrix \n",
    "    # for this element using 7.65\n",
    "    kloc = np.zeros((2,2))\n",
    "    kloc[0,0] = 1\n",
    "    kloc[1,1] = 1\n",
    "    kloc[0,1] = -1\n",
    "    kloc[1,0] = -1\n",
    "    kloc *= (1/dz[ielem])\n",
    "    \n",
    "    # Compute local capacity matrix: \n",
    "    # Eqn. 7.106\n",
    "    mloc = np.zeros((2,2))\n",
    "    mloc[0,0] = 2\n",
    "    mloc[1,1] = 2\n",
    "    mloc[0,1] = 1\n",
    "    mloc[1,0] = 1\n",
    "    mloc *= dz[ielem]/6\n",
    "\n",
    "    \n",
    "    # Assemble the K and M matrices\n",
    "    if ielem == nelem -1: \n",
    "        # For the last element we are ignoring the \n",
    "        #contributions from the n + 1 node \n",
    "        K[ielem, ielem] += kloc[0,0]\n",
    "        M[ielem, ielem] += mloc[0,0]\n",
    "    else:\n",
    "        K[ielem:ielem+2, ielem:ielem+2] += kloc\n",
    "        M[ielem:ielem+2, ielem:ielem+2] += mloc\n",
    "    \n"
   ]
  },
  {
   "cell_type": "markdown",
   "id": "ea6ac14c",
   "metadata": {},
   "source": [
    "Finally, we can conduct timestepping in a similar manner to Problem 7.14 and reproduce the results:"
   ]
  },
  {
   "cell_type": "code",
   "execution_count": 5,
   "id": "c4ad0c56",
   "metadata": {},
   "outputs": [
    {
     "data": {
      "image/png": "[encoded data removed]",
      "text/plain": [
       "<Figure size 864x504 with 11 Axes>"
      ]
     },
     "metadata": {
      "needs_background": "light"
     },
     "output_type": "display_data"
    }
   ],
   "source": [
    "# Inverse of [M + eta \\delta t K]\n",
    "MKinv = np.linalg.inv(M + eta*dt*K)\n",
    "\n",
    "# Create plots of time evolution\n",
    "fig, ax = plt.subplots(1, 11, \n",
    "                       sharey=True, \n",
    "                       figsize=(12,7))\n",
    "\n",
    "\n",
    "# Step in time \n",
    "time = 0\n",
    "\n",
    "# Plot initial condition \n",
    "ax[0].plot(temp, z, 'k')\n",
    "\n",
    "for istep in range(10):\n",
    "    # Compute time \n",
    "    time += dt\n",
    "\n",
    "    # Compute analytical solution\n",
    "    argument = z / (2 * np.sqrt(alpha * time))\n",
    "    analytical = ss.erf(argument)\n",
    "    ax[1+istep].plot(analytical, z, 'k', label='Analytical')\n",
    "\n",
    "    # --- FEM calculation ---\n",
    "    # Predictor:\n",
    "    dtilde = temp[:-1] + (1-eta)* dt * dtemp_dt[:-1]\n",
    "\n",
    "    # Solve for dtemp_dt at next timestep\n",
    "    dtemp_dt[:-1] = np.matmul(MKinv,  - np.matmul(K, dtilde))\n",
    "\n",
    "    # Corrector:\n",
    "    temp[:-1] = dtilde + (eta * dt * dtemp_dt[:-1])\n",
    "\n",
    "    ax[istep+1].set_title(f\"t = {np.around(time,2)}\");\n",
    "\n",
    "    ax[istep+1].plot(temp, z, 'orange', label='FEM')\n",
    "    \n",
    "    \n",
    "# Some plot formatting \n",
    "ax[0].set_ylim([21, -0.1*L]);\n",
    "ax[0].set_title(f\"t = 0\");\n",
    "fig.suptitle(f\"Time evolution of cooling half-space; L = {L}\");\n",
    "ax[0].set_ylabel(\"Depth\");\n",
    "ax[5].set_xlabel(\"Temperatue\");\n",
    "ax[1].legend(bbox_to_anchor=(0.55, 1.15));"
   ]
  }
 ],
 "metadata": {
  "celltoolbar": "Edit Metadata",
  "kernelspec": {
   "display_name": "Python 3 (ipykernel)",
   "language": "python",
   "name": "python3"
  },
  "language_info": {
   "codemirror_mode": {
    "name": "ipython",
    "version": 3
   },
   "file_extension": ".py",
   "mimetype": "text/x-python",
   "name": "python",
   "nbconvert_exporter": "python",
   "pygments_lexer": "ipython3",
   "version": "3.8.10"
  }
 },
 "nbformat": 4,
 "nbformat_minor": 5
}
