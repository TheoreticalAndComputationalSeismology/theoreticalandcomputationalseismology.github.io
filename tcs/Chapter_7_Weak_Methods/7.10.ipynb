{
 "cells": [
  {
   "cell_type": "markdown",
   "id": "8fb7f43c",
   "metadata": {},
   "source": [
    "## Problem 7.10\n",
    "\n",
    "\n",
    "### Some issues: \n",
    "\n",
    "- In Problem 7.10 it is not clear to me what the heating is supposed to be for the first instance (part a) - for now assuming h = 0 \n",
    "- We should make it clear that the stiffness matrix assembly needs to be modified for the last term to ensure the boundary condition is fixed\n",
    "- 7.65: should the 'ab' be there since that is to indicate an individual scalar in the matrix?\n",
    "- 7.62: should also have n+1 n+1 case after this? \n",
    "- 7.67: issue in the subscript formatting \n",
    "- 7.68: I think this now needs to be edited for n+1 instead of n and formula is different \n",
    "- 7.75: floating 'c' character at end of eqn\n",
    "\n",
    "\n",
    "There are a few mistakes in the notation in Section 7.3 when using more than one element. Let us recap the results, with corrections, before solving the intended numerical problem.\n",
    "\n",
    "The static heat problem may be expressed, as in Eqn 7.28, as \n",
    "\\begin{equation*}\n",
    "\\sum_{B=1}^n K_{AB}\\,d_B = F_A\n",
    "\\end{equation*}\n",
    "\n",
    "for which \n",
    "\\begin{align*}\n",
    "K_{AB} &= a(N_A, \\, N_B) \\\\\n",
    "F_{A} &= \\int_0^1 N_a\\, h\\: \\mathrm{d}x \\, + \\, N_A(0)\\,H_0 - a(N_A, \\, N_{n+1})\\,\\theta_1\n",
    "\\end{align*}\n"
   ]
  },
  {
   "cell_type": "markdown",
   "id": "a394137c",
   "metadata": {},
   "source": [
    "\n",
    "#### Global-Element Solution\n",
    "\n",
    "Considering two elements and three shape functions (7.45-7.47) the matrix elements can be written as \n",
    "\\begin{align*}\n",
    "K_{11} &= a(N_1, \\, N_1) = \\int_{x_1}^{x_2} \\frac{-1}{\\Delta x_1}  \\frac{1}{\\Delta x_1} \\: \\mathrm{d}x =  \\frac{1}{\\Delta x_1} \\\\\n",
    "K_{A-1,\\,A} &= a(N_{A-1}, \\, N_A) = \\int_{x_{A-1}}^{x_A} \\frac{-1}{\\Delta x_{A-1}}  \\frac{1}{\\Delta x_{A-1}} \\: \\mathrm{d}x =  \\frac{-1}{\\Delta x_{A-1}} \\\\ \n",
    "K_{A,\\,A} &= a(N_{A}, \\, N_A) = \\frac{1}{\\Delta x_{A-1}} + \\frac{1}{\\Delta x_{A}} \\\\ \n",
    "K_{n+1, \\, n+1} &= a(N_{n+1},\\, N_{n+1}) =  \\frac{1}{\\Delta x_{N}}\n",
    "\\end{align*}\n",
    "for $A = 2, n$. \n",
    "\n",
    "Similarly the heat vector components are\n",
    "\\begin{align*}\n",
    "F_{1} &= \\int_{x_1}^{x_2} N_1 \\, h \\: \\mathrm{d}x \\: + H_0 \\\\ \n",
    "F_{A} &= \\int_{x_{A-1}}^{x_A} N_A \\, h \\: \\mathrm{d}x \\: +  \\int_{x_{A}}^{x_{A+1}} N_A \\, h \\: \\mathrm{d}x \\: = \\int_{x_{A-1}}^{x_A} \\frac{(x-x_{A-1}) \\, h}{\\Delta x_{A-1}} \\: \\mathrm{d}x \\: +  \\int_{x_{A}}^{x_{A+1}} \\frac{(x_{A+1} - x) \\, h}{\\Delta x_{A}} \\: \\mathrm{d}x \\: \\\\ \n",
    "F_{n+1} &= \\int_{x_n}^{x_{n+1}} \\frac{(x-x_n)\\,h}{\\Delta x_n} \\: \\mathrm{d}x \\: + \\frac{\\theta_1}{\\Delta x_n} \\\\ \n",
    "\\end{align*}\n",
    "\n",
    "\n",
    "#### Local-Element Solution\n",
    "\n",
    "Now let us consider the case with $n$ elements (nodes from $x_1$ to $x_{n+1}$). The elements of the local diffusivity matrix are given in 7.60-7.62. It is, however, missing the case for $K_{n+1\\,n+1}$, \n",
    "\n",
    "\\begin{align*}\n",
    "K_{11}       &= k^1_{11} \\\\ \n",
    "K_{A-1\\,A}   &= k^{A-1}_{12} \\\\ \n",
    "K_{A\\,A}     &= k^{A-1}_{22} + k^{A}_{11} \\\\ \n",
    "K_{n+1\\,n+1} &= k^{n}_{22} \n",
    "\\end{align*}\n",
    "\n",
    "In Problem 7.9, it is shown that \n",
    "\n",
    "\\begin{equation}\n",
    "k^A_{ab} = \\frac{(-1)^{a+b}}{\\Delta x_A}\n",
    "\\end{equation}\n",
    "which holds for $A = 1,\\, n$ inclusive.\n",
    "\n",
    "Similarly the heat supply vector may be written as \n",
    "\n",
    "\\begin{align*}\n",
    "F_{1}        &= f^1_{1} + H_0 \\\\ \n",
    "F_{A}        &= f^{A-1}_{2} + f^{A}_{1} \\\\ \n",
    "F_{n+1} &= f^{n}_{2} + \\frac{\\theta_1}{\\Delta x_n}\n",
    "\\end{align*}\n",
    "\n",
    "where \n",
    "\\begin{equation}\n",
    "f_a^A = \\int_{x_A}^{x_{A+1}} N_a \\, h \\:\\mathrm{d}x\n",
    "\\end{equation}\n",
    "\n",
    "**Question: should $F_{n}$ also have a contribtion from $\\theta_1$ since $a(N_n, N_{n+1})$ is not 0** \n",
    "\n",
    "\n",
    "#### The element-wise weak form\n",
    "\n",
    "Eqns. 7.70 - 7.76 show that the LHS of 7.28 can be written as \n",
    "\n",
    "\\begin{equation}\n",
    "\\int_0^1 \\left( \\partial_x \\tilde{\\theta} \\right)\\left( \\partial_x \\theta \\right) \\: \\mathrm{d}x = \\sum_{e=1}^n \\sum_{a=1}^2 \\sum_{b=1}^2 c_a d_b k_{ab}^e\n",
    "\\end{equation}\n",
    "\n",
    "and the RHS can be written as \n",
    "\n",
    "\\begin{equation}\n",
    "\\int_0^1 \\tilde{\\theta}  \\, h \\: \\mathrm{d}x + \\tilde{\\theta}(1)\\partial_x\\theta(1) - \\tilde{\\theta(0)}\\partial_x\\theta(0)  = \\sum_{e=1}^n \\sum_{a=1}^2  c_a f_{a}^e\n",
    "\\end{equation}\n",
    "\n",
    "### Some code - finally\n",
    "\n",
    "Note here that the textbook has indices going from $1$ to $n$. Python indexes starting at 0 so our indices will be from $0$ to $n$ and the first element of a matrix will be $K_{00}$.\n",
    "\n",
    "Note that in part (a) of this question we are solving for $h=0$ (Im assuming?)"
   ]
  },
  {
   "cell_type": "code",
   "execution_count": 78,
   "id": "df40488e",
   "metadata": {
    "scrolled": false
   },
   "outputs": [
    {
     "name": "stdout",
     "output_type": "stream",
     "text": [
      "[ 1.  0.  0.  0.  0.  0.  0.  0.  0.  0. 10.]\n"
     ]
    },
    {
     "data": {
      "text/plain": [
       "[<matplotlib.lines.Line2D at 0x7f93e81ef340>]"
      ]
     },
     "execution_count": 78,
     "metadata": {},
     "output_type": "execute_result"
    },
    {
     "data": {
      "image/png": "[encoded data removed]",
      "text/plain": [
       "<Figure size 432x288 with 1 Axes>"
      ]
     },
     "metadata": {
      "needs_background": "light"
     },
     "output_type": "display_data"
    }
   ],
   "source": [
    "import numpy as np \n",
    "import scipy.linalg as sl\n",
    "import matplotlib.pyplot as plt \n",
    "# Boundary conditions: \n",
    "theta_1 = 1\n",
    "H0      = 1\n",
    "\n",
    "nelem   = 10        # number of elements, n\n",
    "np1     = nelem + 1 # n+1\n",
    "\n",
    "# Global domain node locations\n",
    "x = np.linspace(0, 1, np1)\n",
    "\n",
    "# Compute Delta x for each element: \n",
    "dx = x[1:] - x[:-1]\n",
    "\n",
    "# Create our diffusivity matrix: \n",
    "K = np.zeros((np1, np1))\n",
    "\n",
    "# Create global heating matrix:\n",
    "F = np.zeros(np1)\n",
    "\n",
    "for ielem in range(nelem): \n",
    "    # Compute local diffusivity matrix for this element: \n",
    "    # using 7.65\n",
    "    kloc = np.zeros((2,2))\n",
    "    kloc[0,0] = 1\n",
    "    kloc[1,1] = 1\n",
    "    kloc[0,1] = -1\n",
    "    kloc[1,0] = -1\n",
    "    \n",
    "    # Multiply by grid spacing\n",
    "    kloc *= (1/dx[ielem])\n",
    "\n",
    "    # Add to the global matrix: \n",
    "    K[ielem:ielem+2, ielem:ielem+2] += kloc\n",
    "    \n",
    "    \n",
    "    # Create local forcing vector for element: \n",
    "    # In the case that h = 0, we know floc is also 0 except at the boundaries\n",
    "    floc = np.zeros(2)\n",
    "    if ielem == 0: \n",
    "        floc[0] += H0\n",
    "    elif ielem == nelem-1: \n",
    "        floc[1] += theta_1/dx[ielem]\n",
    "    \n",
    "    # Add to the global vector: \n",
    "    F[ielem:ielem+2] += floc\n",
    "\n",
    "\n",
    "# IMPORTANT: \n",
    "# This needs to be done so that the last row is only\n",
    "# the last element - this enforces the boundary condition\n",
    "K[-1, -2 ] = 0\n",
    "    \n",
    "# Compute d as K^-1 * F \n",
    "Kinv = np.linalg.inv(K)\n",
    "d = np.matmul(Kinv, F)\n",
    "\n",
    "print(F)\n",
    "# Plot against analytical\n",
    "# When h is 0: \n",
    "theta = theta_1 + (1-x)*H0\n",
    "\n",
    "fig, ax = plt.subplots()\n",
    "\n",
    "ax.plot(x, theta)\n",
    "ax.plot(x, d, '--')"
   ]
  },
  {
   "cell_type": "markdown",
   "id": "862b2031",
   "metadata": {},
   "source": [
    "Now lets consider the case when $h=1$. This does not affect the diffusivity matrix, only the force matrix, so lets update that and rerun the code: \n",
    "\n",
    "\n"
   ]
  },
  {
   "cell_type": "code",
   "execution_count": 118,
   "id": "97409206",
   "metadata": {},
   "outputs": [
    {
     "name": "stdout",
     "output_type": "stream",
     "text": [
      "[ 1.05  0.1   0.1   0.1   0.1   0.1   0.1   0.1   0.1   0.1  10.05]\n"
     ]
    },
    {
     "data": {
      "image/png": "[encoded data removed]",
      "text/plain": [
       "<Figure size 432x288 with 1 Axes>"
      ]
     },
     "metadata": {
      "needs_background": "light"
     },
     "output_type": "display_data"
    }
   ],
   "source": [
    "\n",
    "# Reinitialise global heating matrix:\n",
    "F = np.zeros(np1)\n",
    "\n",
    "for ielem in range(nelem): \n",
    "    \n",
    "    # Create local forcing vector for element: \n",
    "    # In the case that h = 0, we know floc is also 0 except at the boundaries\n",
    "    floc = np.zeros(2)\n",
    "    if ielem == 0: \n",
    "        floc[0] += H0 + dx[0]/2\n",
    "        floc[1] += dx[0]/2\n",
    "    elif ielem == nelem-1: \n",
    "        floc[0] += dx[-1]/2\n",
    "        floc[1] += (theta_1/dx[ielem]) + dx[-1]/2\n",
    "    else: \n",
    "        # f_2^{A-1}\n",
    "        floc[0] +=  dx[ielem-1]/2\n",
    "        # f_1^{A}\n",
    "        floc[1] +=  dx[ielem]/2\n",
    "\n",
    "        \n",
    "    #print(floc)\n",
    "    # Add to the global vector: \n",
    "    F[ielem:ielem+2] += floc\n",
    "\n",
    "#print(F)\n",
    "d = np.matmul(Kinv, F)\n",
    "\n",
    "fig, ax = plt.subplots()\n",
    "\n",
    "# Analytical solution in this case \n",
    "\n",
    "theta = theta_1 + (1-x)*H0 +  0.5*(1 - x**2)\n",
    "\n",
    "ax.plot(x, theta)\n",
    "ax.plot(x, d, '--')\n",
    "\n",
    "print(F)"
   ]
  }
 ],
 "metadata": {
  "kernelspec": {
   "display_name": "Python 3 (ipykernel)",
   "language": "python",
   "name": "python3"
  },
  "language_info": {
   "codemirror_mode": {
    "name": "ipython",
    "version": 3
   },
   "file_extension": ".py",
   "mimetype": "text/x-python",
   "name": "python",
   "nbconvert_exporter": "python",
   "pygments_lexer": "ipython3",
   "version": "3.8.10"
  }
 },
 "nbformat": 4,
 "nbformat_minor": 5
}
