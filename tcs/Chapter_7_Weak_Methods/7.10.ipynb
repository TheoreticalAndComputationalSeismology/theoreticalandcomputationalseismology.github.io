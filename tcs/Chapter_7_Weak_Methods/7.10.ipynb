{
 "cells": [
  {
   "cell_type": "markdown",
   "id": "8fb7f43c",
   "metadata": {},
   "source": [
    "## Problem 7.10"
   ]
  },
  {
   "cell_type": "markdown",
   "id": "a394137c",
   "metadata": {},
   "source": [
    "Let us consider the case with $n$ elements (nodes from $x_1$ to $x_{n+1}$). Because the final node ($n+1$) has its temperature is fixed, we do not need to solve for this node. The elements of the local diffusivity matrix for nodes $1,...n$ are given in 7.60-7.62.\n",
    "\n",
    "\\begin{align*}\n",
    "K_{11}       &= k^1_{11} \\\\ \n",
    "K_{A-1\\,A}   &= k^{A-1}_{12} \\\\ \n",
    "K_{A\\,A}     &= k^{A-1}_{22} + k^{A}_{11} \\\\ \n",
    "\\end{align*}\n",
    "\n",
    "In Problem 7.9, it is shown that \n",
    "\n",
    "\\begin{equation}\n",
    "k^A_{ab} = \\frac{(-1)^{a+b}}{\\Delta x_A}\n",
    "\\end{equation}\n",
    "which holds for $A = 1,\\, n$ inclusive.\n",
    "\n",
    "Similarly the heat supply vector may be written as \n",
    "\n",
    "\\begin{align*}\n",
    "F_{1}        &= f^1_{1} + H_0 \\\\ \n",
    "F_{A}        &= f^{A-1}_{2} + f^{A}_{1} \\\\ \n",
    "F_{n+1} &= f^{n}_{2} + \\frac{\\theta_1}{\\Delta x_n}\n",
    "\\end{align*}\n",
    "\n",
    "where \n",
    "\\begin{equation}\n",
    "f_a^A = \\int_{x_A}^{x_{A+1}} N_a \\, h \\:\\mathrm{d}x\n",
    "\\end{equation}\n",
    "\n",
    "For example, the local forcing vectors from the first 3 elements would be: \n",
    "\n",
    "\\begin{equation}\n",
    "\\begin{bmatrix} \n",
    "F_1   \\\\\n",
    "F_2       \\\\ \n",
    "\\end{bmatrix}  \\leftarrow \n",
    "\\underbrace{\\begin{bmatrix} \n",
    "f^1_{1} + H_0   \\\\\n",
    "f_{2}^{1}       \\\\ \n",
    "\\end{bmatrix}}_{\\text{Element 1 contribution}} \\quad, \\quad\n",
    "\\begin{bmatrix} \n",
    "F_2   \\\\\n",
    "F_3       \\\\ \n",
    "\\end{bmatrix}  \\leftarrow \n",
    "\\underbrace{\\begin{bmatrix} \n",
    "f_{1}^{2}    \\\\\n",
    "f_{2}^{2}   \\\\ \n",
    "\\end{bmatrix}}_{\\text{Element 2 contribution}}\n",
    "\\quad, \\quad\n",
    "\\begin{bmatrix} \n",
    "F_3   \\\\\n",
    "F_4       \\\\ \n",
    "\\end{bmatrix}  \\leftarrow \n",
    "\\underbrace{\\begin{bmatrix} \n",
    "f_{1}^{3}    \\\\\n",
    "f_{2}^{3}   \\\\ \n",
    "\\end{bmatrix}}_{\\text{Element 3 contribution}}\n",
    "\\end{equation}\n",
    "\n",
    "\n",
    "So now let us determine the values of $f_a^A$ for the cases of $h=0$ and $h=1$ by solving Eqn 7.69, \n",
    "\\begin{equation}\n",
    "f_a^A = \\int_{x_{A}}^{x_{A+1}} N_a \\, h(x) \\: \\mathrm{d}x \\quad. \n",
    "\\end{equation}\n",
    "Evidently $f_a^A = 0$ when $h=0$. When $h(x) = 1$, we get\n",
    "\\begin{align*}\n",
    "f_a^A &= \\int_{x_{A}}^{x_{A+1}} \\frac{1}{\\Delta x_A} \\left( x_{A+1} - x \\right) \\: \\mathrm{d}x \\\\ \n",
    "      &= \\frac{\\Delta x_A}{2} \n",
    "\\end{align*}\n",
    "\n",
    "\n",
    "### Case 1: h = 0\n",
    "\n",
    "Note here that the textbook has indices going from $1$ to $n$. Python indexes starting at 0 so our indices will be from $0$ to $n$ and the first element of a matrix will be $K_{00}$. "
   ]
  },
  {
   "cell_type": "code",
   "execution_count": 34,
   "id": "df40488e",
   "metadata": {
    "scrolled": false
   },
   "outputs": [
    {
     "data": {
      "image/png": "[encoded data removed]",
      "text/plain": [
       "<Figure size 432x288 with 1 Axes>"
      ]
     },
     "metadata": {
      "needs_background": "light"
     },
     "output_type": "display_data"
    }
   ],
   "source": [
    "import numpy as np \n",
    "import scipy.linalg as sl\n",
    "import matplotlib.pyplot as plt \n",
    "# Boundary conditions: \n",
    "theta_1 = 1\n",
    "H0      = 1\n",
    "\n",
    "nelem   = 10        # number of elements, n\n",
    "np1     = nelem + 1 # n+1\n",
    "\n",
    "# Global domain node locations\n",
    "x = np.linspace(0, 1, np1)\n",
    "\n",
    "# Compute Delta x for each element: \n",
    "dx = x[1:] - x[:-1]\n",
    "\n",
    "# Create our diffusivity matrix: \n",
    "K = np.zeros((nelem, nelem))\n",
    "\n",
    "# Create global heating matrix:\n",
    "F = np.zeros(nelem)\n",
    "\n",
    "for ielem in range(nelem): \n",
    "    # Compute local diffusivity matrix for this element: \n",
    "    # using 7.65\n",
    "    kloc = np.zeros((2,2))\n",
    "    kloc[0,0] = 1\n",
    "    kloc[1,1] = 1\n",
    "    kloc[0,1] = -1\n",
    "    kloc[1,0] = -1\n",
    "    \n",
    "    # Multiply by grid spacing\n",
    "    kloc *= (1/dx[ielem])\n",
    "\n",
    "    # Add to the global matrix:\n",
    "    if ielem == nelem -1: \n",
    "        # For the last element we are ignoring the \n",
    "        #contributions from the n + 1 node \n",
    "        K[ielem, ielem] += kloc[0,0]\n",
    "    else:\n",
    "        K[ielem:ielem+2, ielem:ielem+2] += kloc\n",
    "    \n",
    "    \n",
    "    # Create local forcing vector for element: \n",
    "    # In the case that h = 0, we know floc is also\n",
    "    # 0 except at the boundaries\n",
    "    floc = np.zeros(2)\n",
    "    if ielem == 0: \n",
    "        floc[0] += H0 \n",
    "    elif ielem == nelem-1: \n",
    "        floc[0] += theta_1/dx[ielem]\n",
    "    \n",
    "    \n",
    "    # Add to the global vector:\n",
    "    # For the nth element we need to edit the \n",
    "    # indexing since only the nth (not n+1th) node \n",
    "    # is added \n",
    "    if ielem == nelem-1:\n",
    "        F[ielem] += floc[0]\n",
    "    else: \n",
    "        F[ielem:ielem+2] += floc  \n",
    "\n",
    "        \n",
    "# Compute d as K^-1 * F \n",
    "Kinv = np.linalg.inv(K)\n",
    "d = np.matmul(Kinv, F)\n",
    "\n",
    "# The total temperature field includes the n+1 node\n",
    "# which is equal to theta_1\n",
    "temp = np.zeros(np1)\n",
    "temp[:-1] = d\n",
    "temp[-1]  = theta_1\n"
   ]
  },
  {
   "cell_type": "markdown",
   "id": "0fdb88c0",
   "metadata": {},
   "source": [
    "We can now compare against the analytical solution \n",
    "\\begin{equation}\n",
    "\\theta(x) = \\theta_1 + (1-x)H_0\n",
    "\\end{equation}"
   ]
  },
  {
   "cell_type": "code",
   "execution_count": 36,
   "id": "f0945ad0",
   "metadata": {},
   "outputs": [
    {
     "data": {
      "image/png": "[encoded data removed]",
      "text/plain": [
       "<Figure size 432x288 with 1 Axes>"
      ]
     },
     "metadata": {
      "needs_background": "light"
     },
     "output_type": "display_data"
    }
   ],
   "source": [
    "# Plot against analytical\n",
    "# When h is 0: \n",
    "analytical = theta_1 + (1-x)*H0\n",
    "\n",
    "fig, ax = plt.subplots()\n",
    "\n",
    "ax.plot(x, temp, 'k')\n",
    "ax.plot(x, analytical, '--', color='orange')\n",
    "ax.legend(['FEM', 'Analytical']);"
   ]
  },
  {
   "cell_type": "markdown",
   "id": "155c3959",
   "metadata": {},
   "source": [
    "### Case 1: h = 0\n",
    "Now lets consider the case when $h=1$. This does not affect the diffusivity matrix, only the force matrix, so lets update that and rerun the code: "
   ]
  },
  {
   "cell_type": "code",
   "execution_count": 30,
   "id": "bb513b2b",
   "metadata": {},
   "outputs": [],
   "source": [
    "# Reinitialise global heating matrix:\n",
    "F = np.zeros(nelem)\n",
    "\n",
    "for ielem in range(nelem): \n",
    "    # Create local forcing vector for element: \n",
    "    # In the case that h = 0, we know floc is also 0 \n",
    "    # except at the boundaries\n",
    "    floc = np.zeros(2)\n",
    "    if ielem == 0: \n",
    "        floc[0] += H0 + dx[0]/2\n",
    "        floc[1] += dx[0]/2\n",
    "    elif ielem == nelem-1: \n",
    "        floc[0] += (theta_1/dx[ielem]) + dx[-1]/2\n",
    "    else: \n",
    "        floc[0] +=  dx[ielem-1]/2\n",
    "        floc[1] +=  dx[ielem]/2\n",
    "        \n",
    "    # Add to the global vector:\n",
    "    # For the nth element we need to edit the indexing\n",
    "    # since only the nth (not n+1th) node is added \n",
    "    if ielem == nelem-1:\n",
    "        F[ielem] += floc[0]\n",
    "    else: \n",
    "        F[ielem:ielem+2] += floc \n",
    "\n",
    "d = np.matmul(Kinv, F)\n",
    "\n",
    "\n",
    "# The total temperature field includes the n+1 node\n",
    "# which is equal to theta_1\n",
    "temp = np.zeros(np1)\n",
    "temp[:-1] = d\n",
    "temp[-1]  = theta_1\n"
   ]
  },
  {
   "cell_type": "markdown",
   "id": "970b4bfc",
   "metadata": {},
   "source": [
    "Finally, let us compare against the analytical solution (7.19) for $h(x)=1$ which ends up being \n",
    "\n",
    "\\begin{equation}\n",
    "    \\theta(x) = \\theta_1 + (1-x) H_0 + \\frac{1}{2}(1-x^2) \\quad.\n",
    "\\end{equation}"
   ]
  },
  {
   "cell_type": "code",
   "execution_count": 33,
   "id": "ff21e541",
   "metadata": {},
   "outputs": [
    {
     "data": {
      "image/png": "[encoded data removed]",
      "text/plain": [
       "<Figure size 432x288 with 1 Axes>"
      ]
     },
     "metadata": {
      "needs_background": "light"
     },
     "output_type": "display_data"
    }
   ],
   "source": [
    "fig, ax = plt.subplots()\n",
    "\n",
    "# Analytical solution in this case \n",
    "\n",
    "theta = theta_1 + (1-x)*H0 +  0.5*(1 - x**2)\n",
    "\n",
    "ax.plot(x, temp, 'k');\n",
    "ax.plot(x, theta, '--', color='orange');\n",
    "ax.legend(['FEM', 'Analytical']);"
   ]
  }
 ],
 "metadata": {
  "kernelspec": {
   "display_name": "Python 3 (ipykernel)",
   "language": "python",
   "name": "python3"
  },
  "language_info": {
   "codemirror_mode": {
    "name": "ipython",
    "version": 3
   },
   "file_extension": ".py",
   "mimetype": "text/x-python",
   "name": "python",
   "nbconvert_exporter": "python",
   "pygments_lexer": "ipython3",
   "version": "3.8.10"
  }
 },
 "nbformat": 4,
 "nbformat_minor": 5
}
