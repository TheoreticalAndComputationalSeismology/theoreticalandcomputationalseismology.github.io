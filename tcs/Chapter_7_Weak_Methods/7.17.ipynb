{
 "cells": [
  {
   "cell_type": "markdown",
   "id": "3ea634da",
   "metadata": {},
   "source": [
    "## Problem 7.17"
   ]
  },
  {
   "cell_type": "markdown",
   "id": "028642e4",
   "metadata": {},
   "source": [
    "There are a number of ways one can obtain the solutions of the equation \n",
    "\\begin{equation*}\n",
    "(1 - \\xi^2 ) \\frac{\\mathrm{d}}{\\mathrm{d}\\xi} P_n(\\xi) = 0 \n",
    "\\end{equation*}\n",
    "for which $P_n$ is the Legendre polynomial of degree $n$. \n",
    "\n",
    "Numerous algorithms have been developed for finding the roots of functions. In this case, we will use a simple [Bisection method](https://en.wikipedia.org/wiki/Bisection_method). This requires us to be able to evaluate \n",
    "\\begin{equation*}\n",
    "f(\\xi) = (1 - \\xi^2 ) \\frac{\\mathrm{d}}{\\mathrm{d}\\xi} P_n(\\xi) \n",
    "\\end{equation*}\n",
    "within the domain $\\xi \\in [-1,\\,+1]$. To do this, we can utilise one of the many identities of the Legendre polynomials, \n",
    "\\begin{equation*}\n",
    "(1 - \\xi^2 ) \\frac{\\mathrm{d}}{\\mathrm{d}\\xi} P_n(\\xi) = n \\left[  P_{n-1}(\\xi) -  x P_n(\\xi) \\right]; \n",
    "\\end{equation*} \n",
    "see [Relation 14.10.5 of DLFM](https://dlmf.nist.gov/14.10). This allows us to write our function $f(\\xi)$ in terms of Legendre polynomials, which are available in SciPy. \n",
    "\n",
    "### Setting up the code:\n",
    "First let us define a few parameters. $n$ is the order of the Legendre polynomial in our function. There will then be $n+1$ roots including the end points $\\xi = \\pm 1$. In the case that $n$ is even, one of the roots will be $\\xi=0$. Note that the roots are always symmetric about $\\xi=0$. We will seek out roots by splitting up the domain into a number of segments and testing if a root lies within that segment. The number of segments is given by ```Nsegs```. When this number is high, computation time is longer. When this number is too low, you risk missing roots or not converging. "
   ]
  },
  {
   "cell_type": "code",
   "execution_count": 1,
   "id": "a158b628",
   "metadata": {
    "scrolled": false
   },
   "outputs": [
    {
     "name": "stderr",
     "output_type": "stream",
     "text": [
      "/usr/local/Caskroom/miniconda/base/lib/python3.8/site-packages/scipy/__init__.py:146: UserWarning: A NumPy version >=1.16.5 and <1.23.0 is required for this version of SciPy (detected version 1.24.3\n",
      "  warnings.warn(f\"A NumPy version >={np_minversion} and <{np_maxversion}\"\n"
     ]
    }
   ],
   "source": [
    "import scipy.special as ss \n",
    "import numpy as np \n",
    "from copy import copy \n",
    "import matplotlib.pyplot as plt \n",
    "\n",
    "\n",
    "n      = 11                 # Degree of Legendre polynomial\n",
    "Nsegs  = 100                # Number of segments\n",
    "nroots = n + 1              # Number of roots\n",
    "roots  = np.zeros(nroots)   # Array to hold all the roots\n",
    "\n",
    "# Compute relevant Legendre functions\n",
    "# leg_n and leg_n_1 are orthopoly1d objects that can be called to \n",
    "# return a value of the polynomial at (a) specific xi value(s)\n",
    "leg_n   = ss.legendre(n)    # P_n  \n",
    "leg_n_1 = ss.legendre(n-1)  # P_{n-1}\n",
    "\n",
    "\n",
    "# Let us also define a function that returns our function f\n",
    "# at point(s) xi \n",
    "# Note here that we parse in leg_n and leg_n_1\n",
    "# as arguments so they are only generated once above, \n",
    "# instead of being initialised every time the function is computed\n",
    "def compute_functional(xi, n, lnm1, ln):\n",
    "    return n * (lnm1(xi) - xi * ln(xi))"
   ]
  },
  {
   "cell_type": "markdown",
   "id": "e0ce09f5",
   "metadata": {},
   "source": [
    "Since we know two of the roots are $\\xi = \\pm 1$, lets set those now: "
   ]
  },
  {
   "cell_type": "code",
   "execution_count": 2,
   "id": "0d645f73",
   "metadata": {},
   "outputs": [],
   "source": [
    "# Two roots will always be +=1\n",
    "roots[0]   = -1\n",
    "roots[-1]  =  1\n",
    "# Count the number of roots found so far \n",
    "nrts_found =  2"
   ]
  },
  {
   "cell_type": "markdown",
   "id": "c52830e1",
   "metadata": {},
   "source": [
    "Note here that if $n \\le 2$ then we are done, since the roots are at $\\xi = \\pm 1$ or $\\xi = 0$. Hence we only need to execute the next cells if there are more roots to be found. To do this, we will use the Bisection method. Since the roots are symmetric about 0, we only need to seek roots in the range $\\xi = [0, 1]$ "
   ]
  },
  {
   "cell_type": "code",
   "execution_count": 3,
   "id": "09337f07",
   "metadata": {
    "scrolled": false
   },
   "outputs": [],
   "source": [
    "# For n <= 2 we are done already...\n",
    "if nroots > 3:\n",
    "    \n",
    "    # End point to search for root\n",
    "    # -- avoiding xi = 1\n",
    "    xi_end = 0.99999\n",
    "\n",
    "    if n%2==0:\n",
    "        # Even power n\n",
    "        # Odd number of roots including xi = 0\n",
    "        # can start hunting only from > 0 and < 1\n",
    "        xi_start = 0.00001\n",
    "        nrts_found += 1\n",
    "    else:\n",
    "        # Look for the positive roots (mirror around xi = 0)\n",
    "        xi_start = 0.0\n",
    "\n",
    "    # Create array of segments \n",
    "    segments = np.linspace(xi_start, xi_end, Nsegs)\n",
    "    \n",
    "    # Evaluate function at each segment boundary\n",
    "    fseg = compute_functional(segments, n, leg_n_1, leg_n)\n",
    "\n",
    "    # Index in the 'roots' array to store the root\n",
    "    idx = int(nroots / 2) + nroots%2 \n",
    "\n",
    "    # Loop through each segment and test if root lies within\n",
    "    for iseg in range(Nsegs-1):\n",
    "        # Deal with the unlikely cases we hit \n",
    "        # the root position exactly\n",
    "        if fseg[iseg] == 0:\n",
    "            # Root found exactly here\n",
    "            error = 0\n",
    "            nrts_found += 1\n",
    "        elif fseg[iseg+1] == 0:\n",
    "            # Root found exactly here\n",
    "            error = 0\n",
    "            nrts_found += 1\n",
    "        # More likely - check if a root is within the segment\n",
    "        # indicated by change in sign of the function values at \n",
    "        # each end of the segment\n",
    "        elif fseg[iseg] * fseg[iseg+1] < 0:\n",
    "            # There is a change in sign between the two values:\n",
    "            # Start with the current edge xi positions of the 'segment'\n",
    "            a = segments[iseg]\n",
    "            b = segments[iseg+1]\n",
    "\n",
    "            # initialise with a high error\n",
    "            error = 999\n",
    "            \n",
    "            # We iterate until the function value at the midpoint ('error')\n",
    "            # is close to 0\n",
    "            while np.abs(error) > 1e-9:\n",
    "\n",
    "                # See if function has local positive or negative gradient\n",
    "                grad =  compute_functional(b, n, leg_n_1, leg_n) \\\n",
    "                      - compute_functional(a, n, leg_n_1, leg_n)\n",
    "                \n",
    "                # Get midpoint and function value at midpoint\n",
    "                this_root = a + (b-a)/2\n",
    "                error    =  compute_functional(this_root, n, leg_n_1, leg_n)\n",
    "\n",
    "                if error !=0:\n",
    "                    # if sign of gradient * sign of error \n",
    "                    # (functional value at midpoint) is > 0 \n",
    "                    # then we replace\n",
    "                    # upper bound else replace the lower bound\n",
    "                    if grad*error > 0:\n",
    "                        b = copy(this_root)\n",
    "                    else:\n",
    "                        a = copy(this_root)\n",
    "\n",
    "            # Add newest root found and update index\n",
    "            roots[idx] = this_root\n",
    "            idx += 1\n",
    "\n",
    "            # Adding 2 to account for symmetry\n",
    "            nrts_found+=2\n",
    "\n",
    "\n",
    "    # Now we have scanned for all the roots within [0, 1]\n",
    "    # Mirror roots around 0 since symmetric:\n",
    "    # The n%2 accounts for the difference in mirroring (due to the 0 root) for n being\n",
    "    # odd or even\n",
    "    for irt in range(1, int(n/2) + n%2):\n",
    "        i1 = int(nroots/2) -irt\n",
    "        i2 = int(nroots/2) +irt  - n%2 \n",
    "        roots[i1] = -roots[i2]\n"
   ]
  },
  {
   "cell_type": "markdown",
   "id": "cd2486e6",
   "metadata": {},
   "source": [
    "### Checking our roots\n",
    "We should now have all the roots, but lets check that: "
   ]
  },
  {
   "cell_type": "code",
   "execution_count": 5,
   "id": "18cd0990",
   "metadata": {},
   "outputs": [
    {
     "name": "stdout",
     "output_type": "stream",
     "text": [
      "Number of roots found: 12/12\n",
      "Roots                :\n",
      " [-1.         -0.94489927 -0.81927932 -0.63287615 -0.39953094 -0.13655293\n",
      "  0.13655293  0.39953094  0.63287615  0.81927932  0.94489927  1.        ]\n"
     ]
    },
    {
     "data": {
      "image/png": "[encoded data removed]",
      "text/plain": [
       "<Figure size 432x288 with 1 Axes>"
      ]
     },
     "metadata": {
      "needs_background": "light"
     },
     "output_type": "display_data"
    }
   ],
   "source": [
    "if nrts_found != nroots:\n",
    "    raise ValueError(f\"Error: found {nrts_found} but there are {nroots}. Try larger Nsegs.\")\n",
    "\n",
    "\n",
    "print(f\"Number of roots found: {nrts_found}/{nroots}\")\n",
    "print(f\"Roots                :\\n {roots}\")\n",
    "\n",
    "\n",
    "fig, ax = plt.subplots()\n",
    "xi = np.linspace(-1, 1, 1000)\n",
    "ax.plot(xi, compute_functional(xi, n, leg_n_1, leg_n), 'k')\n",
    "\n",
    "ax.scatter(roots, np.zeros(nroots), s=25, marker='o', color='None', edgecolor='orange');"
   ]
  }
 ],
 "metadata": {
  "kernelspec": {
   "display_name": "Python 3 (ipykernel)",
   "language": "python",
   "name": "python3"
  },
  "language_info": {
   "codemirror_mode": {
    "name": "ipython",
    "version": 3
   },
   "file_extension": ".py",
   "mimetype": "text/x-python",
   "name": "python",
   "nbconvert_exporter": "python",
   "pygments_lexer": "ipython3",
   "version": "3.8.10"
  }
 },
 "nbformat": 4,
 "nbformat_minor": 5
}
