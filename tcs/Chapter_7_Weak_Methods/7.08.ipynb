{
 "cells": [
  {
   "cell_type": "markdown",
   "id": "04355b53",
   "metadata": {},
   "source": [
    "## Problem 7.8\n",
    "\n",
    "We seek the inverse of the mapping defined in 7.55, \n",
    "\\begin{equation*}\n",
    "    x(\\xi) = \\sum_{a=1}^2 x_{A+a-1} N_a ( \\xi) \n",
    "\\end{equation*}\n",
    "where \n",
    "\\begin{equation*}\n",
    "    N_a(\\xi) = \\frac{1}{2} \\left[ 1 + (-1)^a \\xi  \\right] . \n",
    "\\end{equation*}\n",
    "\n",
    "To do this, let us write out the mapping explicitly: \n",
    "\n",
    "\\begin{align}\n",
    "    x(\\xi) &=  x_{A} N_1 ( \\xi)  + x_{A+1} N_2 ( \\xi) \\quad, \\\\ \n",
    "    x(\\xi) &=   \\frac{1}{2} \\Big( x_{A} \\left[ 1 - \\xi  \\right]  +  x_{A+1} \\left[ 1 + \\xi  \\right] \\Big). \n",
    "\\end{align}\n",
    "\n",
    "\n",
    "Multiplying by 2 and collecting terms this rearranges to\n",
    "\n",
    "\\begin{align}\n",
    "    2 x =   x_{A} +  x_{A+1}   + \\xi \\left( x_{A+1}  - x_{A}  \\right)\n",
    "\\end{align}\n",
    "\n",
    "and therefore \n",
    "\n",
    "\\begin{align}\n",
    "   \\xi = \\frac{ 2 x - x_{A} -  x_{A+1} } { x_{A+1}  - x_{A} } =  \\frac{ 2 x - x_{A} -  x_{A+1} } { \\Delta x_{A} } \n",
    "\\end{align}\n",
    "\n",
    "as required. We can then see that at $x = x_A$ and $x = x_{A+1}$ this becomes\n",
    "\n",
    "\\begin{align}\n",
    "   \\xi(x_A) &= \\frac{  x_{A} - x_{A+1} } { x_{A+1}  - x_{A}  }  = - 1 \\\\\n",
    "   \\xi(x_{A+1}) &= \\frac{ x_{A+1} - x_{A}  } {  x_{A+1}  - x_{A}  } = +1 \\quad . \n",
    "\\end{align}"
   ]
  }
 ],
 "metadata": {
  "kernelspec": {
   "display_name": "Python 3 (ipykernel)",
   "language": "python",
   "name": "python3"
  },
  "language_info": {
   "codemirror_mode": {
    "name": "ipython",
    "version": 3
   },
   "file_extension": ".py",
   "mimetype": "text/x-python",
   "name": "python",
   "nbconvert_exporter": "python",
   "pygments_lexer": "ipython3",
   "version": "3.8.10"
  }
 },
 "nbformat": 4,
 "nbformat_minor": 5
}
